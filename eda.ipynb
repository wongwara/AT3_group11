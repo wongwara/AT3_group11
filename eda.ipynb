{
 "cells": [
  {
   "cell_type": "code",
   "execution_count": 1,
   "id": "ca5acff9",
   "metadata": {},
   "outputs": [],
   "source": [
    "import pandas as pd\n",
    "import numpy as np\n",
    "import matplotlib.pyplot as plt\n",
    "import plotly.express as px\n",
    "# avoid the warning display\n",
    "import warnings\n",
    "warnings.filterwarnings(\"ignore\")"
   ]
  },
  {
   "cell_type": "code",
   "execution_count": 2,
   "id": "c1e2c803",
   "metadata": {},
   "outputs": [],
   "source": [
    "df= pd.read_csv('/Users/lilywijara/Desktop/final/df.csv')"
   ]
  },
  {
   "cell_type": "code",
   "execution_count": 3,
   "id": "22d5630d",
   "metadata": {},
   "outputs": [],
   "source": [
    "df = df.drop(['Unnamed: 0'], axis= 1)"
   ]
  },
  {
   "cell_type": "code",
   "execution_count": 4,
   "id": "c8e1af51",
   "metadata": {},
   "outputs": [
    {
     "data": {
      "text/plain": [
       "(4260921, 23)"
      ]
     },
     "execution_count": 4,
     "metadata": {},
     "output_type": "execute_result"
    }
   ],
   "source": [
    "df.shape"
   ]
  },
  {
   "cell_type": "code",
   "execution_count": 5,
   "id": "426c8e6d",
   "metadata": {
    "scrolled": false
   },
   "outputs": [
    {
     "data": {
      "text/html": [
       "<div>\n",
       "<style scoped>\n",
       "    .dataframe tbody tr th:only-of-type {\n",
       "        vertical-align: middle;\n",
       "    }\n",
       "\n",
       "    .dataframe tbody tr th {\n",
       "        vertical-align: top;\n",
       "    }\n",
       "\n",
       "    .dataframe thead th {\n",
       "        text-align: right;\n",
       "    }\n",
       "</style>\n",
       "<table border=\"1\" class=\"dataframe\">\n",
       "  <thead>\n",
       "    <tr style=\"text-align: right;\">\n",
       "      <th></th>\n",
       "      <th>ssn</th>\n",
       "      <th>cc_num</th>\n",
       "      <th>first</th>\n",
       "      <th>last</th>\n",
       "      <th>gender</th>\n",
       "      <th>street</th>\n",
       "      <th>city</th>\n",
       "      <th>state</th>\n",
       "      <th>zip</th>\n",
       "      <th>lat</th>\n",
       "      <th>...</th>\n",
       "      <th>dob</th>\n",
       "      <th>acct_num</th>\n",
       "      <th>trans_num</th>\n",
       "      <th>unix_time</th>\n",
       "      <th>category</th>\n",
       "      <th>amt</th>\n",
       "      <th>is_fraud</th>\n",
       "      <th>merchant</th>\n",
       "      <th>merch_lat</th>\n",
       "      <th>merch_long</th>\n",
       "    </tr>\n",
       "  </thead>\n",
       "  <tbody>\n",
       "    <tr>\n",
       "      <th>0</th>\n",
       "      <td>115-04-4507</td>\n",
       "      <td>4218196001337</td>\n",
       "      <td>Jonathan</td>\n",
       "      <td>Johnson</td>\n",
       "      <td>M</td>\n",
       "      <td>863 Lawrence Valleys</td>\n",
       "      <td>Ambler</td>\n",
       "      <td>PA</td>\n",
       "      <td>19002</td>\n",
       "      <td>40.1809</td>\n",
       "      <td>...</td>\n",
       "      <td>1959-10-03</td>\n",
       "      <td>888022315787</td>\n",
       "      <td>91ab12e73ef38206e1121e9648d2408d</td>\n",
       "      <td>1.558720e+09</td>\n",
       "      <td>gas_transport</td>\n",
       "      <td>69.12</td>\n",
       "      <td>0.0</td>\n",
       "      <td>Phillips Group</td>\n",
       "      <td>39.491416</td>\n",
       "      <td>-75.588522</td>\n",
       "    </tr>\n",
       "    <tr>\n",
       "      <th>1</th>\n",
       "      <td>115-04-4507</td>\n",
       "      <td>4218196001337</td>\n",
       "      <td>Jonathan</td>\n",
       "      <td>Johnson</td>\n",
       "      <td>M</td>\n",
       "      <td>863 Lawrence Valleys</td>\n",
       "      <td>Ambler</td>\n",
       "      <td>PA</td>\n",
       "      <td>19002</td>\n",
       "      <td>40.1809</td>\n",
       "      <td>...</td>\n",
       "      <td>1959-10-03</td>\n",
       "      <td>888022315787</td>\n",
       "      <td>071553d533a6822a4431c354c434ddcb</td>\n",
       "      <td>1.569426e+09</td>\n",
       "      <td>grocery_pos</td>\n",
       "      <td>68.11</td>\n",
       "      <td>0.0</td>\n",
       "      <td>Tucker Ltd</td>\n",
       "      <td>40.890319</td>\n",
       "      <td>-75.573359</td>\n",
       "    </tr>\n",
       "    <tr>\n",
       "      <th>2</th>\n",
       "      <td>115-04-4507</td>\n",
       "      <td>4218196001337</td>\n",
       "      <td>Jonathan</td>\n",
       "      <td>Johnson</td>\n",
       "      <td>M</td>\n",
       "      <td>863 Lawrence Valleys</td>\n",
       "      <td>Ambler</td>\n",
       "      <td>PA</td>\n",
       "      <td>19002</td>\n",
       "      <td>40.1809</td>\n",
       "      <td>...</td>\n",
       "      <td>1959-10-03</td>\n",
       "      <td>888022315787</td>\n",
       "      <td>0cfad38ef15e4749eff68dc83f62c151</td>\n",
       "      <td>1.577206e+09</td>\n",
       "      <td>misc_net</td>\n",
       "      <td>40.35</td>\n",
       "      <td>0.0</td>\n",
       "      <td>Dixon PLC</td>\n",
       "      <td>39.244958</td>\n",
       "      <td>-74.475327</td>\n",
       "    </tr>\n",
       "    <tr>\n",
       "      <th>3</th>\n",
       "      <td>115-04-4507</td>\n",
       "      <td>4218196001337</td>\n",
       "      <td>Jonathan</td>\n",
       "      <td>Johnson</td>\n",
       "      <td>M</td>\n",
       "      <td>863 Lawrence Valleys</td>\n",
       "      <td>Ambler</td>\n",
       "      <td>PA</td>\n",
       "      <td>19002</td>\n",
       "      <td>40.1809</td>\n",
       "      <td>...</td>\n",
       "      <td>1959-10-03</td>\n",
       "      <td>888022315787</td>\n",
       "      <td>5782693d7c70f062f258cb30bfa8900f</td>\n",
       "      <td>1.571428e+09</td>\n",
       "      <td>grocery_pos</td>\n",
       "      <td>96.22</td>\n",
       "      <td>0.0</td>\n",
       "      <td>Lambert-Cooper</td>\n",
       "      <td>39.656925</td>\n",
       "      <td>-75.802342</td>\n",
       "    </tr>\n",
       "    <tr>\n",
       "      <th>4</th>\n",
       "      <td>115-04-4507</td>\n",
       "      <td>4218196001337</td>\n",
       "      <td>Jonathan</td>\n",
       "      <td>Johnson</td>\n",
       "      <td>M</td>\n",
       "      <td>863 Lawrence Valleys</td>\n",
       "      <td>Ambler</td>\n",
       "      <td>PA</td>\n",
       "      <td>19002</td>\n",
       "      <td>40.1809</td>\n",
       "      <td>...</td>\n",
       "      <td>1959-10-03</td>\n",
       "      <td>888022315787</td>\n",
       "      <td>35fd7db657d7e30dd608c37f7798186e</td>\n",
       "      <td>1.549840e+09</td>\n",
       "      <td>gas_transport</td>\n",
       "      <td>71.89</td>\n",
       "      <td>0.0</td>\n",
       "      <td>Griffith LLC</td>\n",
       "      <td>40.313342</td>\n",
       "      <td>-74.220434</td>\n",
       "    </tr>\n",
       "  </tbody>\n",
       "</table>\n",
       "<p>5 rows × 23 columns</p>\n",
       "</div>"
      ],
      "text/plain": [
       "           ssn         cc_num     first     last gender                street  \\\n",
       "0  115-04-4507  4218196001337  Jonathan  Johnson      M  863 Lawrence Valleys   \n",
       "1  115-04-4507  4218196001337  Jonathan  Johnson      M  863 Lawrence Valleys   \n",
       "2  115-04-4507  4218196001337  Jonathan  Johnson      M  863 Lawrence Valleys   \n",
       "3  115-04-4507  4218196001337  Jonathan  Johnson      M  863 Lawrence Valleys   \n",
       "4  115-04-4507  4218196001337  Jonathan  Johnson      M  863 Lawrence Valleys   \n",
       "\n",
       "     city state    zip      lat  ...         dob      acct_num  \\\n",
       "0  Ambler    PA  19002  40.1809  ...  1959-10-03  888022315787   \n",
       "1  Ambler    PA  19002  40.1809  ...  1959-10-03  888022315787   \n",
       "2  Ambler    PA  19002  40.1809  ...  1959-10-03  888022315787   \n",
       "3  Ambler    PA  19002  40.1809  ...  1959-10-03  888022315787   \n",
       "4  Ambler    PA  19002  40.1809  ...  1959-10-03  888022315787   \n",
       "\n",
       "                          trans_num     unix_time       category    amt  \\\n",
       "0  91ab12e73ef38206e1121e9648d2408d  1.558720e+09  gas_transport  69.12   \n",
       "1  071553d533a6822a4431c354c434ddcb  1.569426e+09    grocery_pos  68.11   \n",
       "2  0cfad38ef15e4749eff68dc83f62c151  1.577206e+09       misc_net  40.35   \n",
       "3  5782693d7c70f062f258cb30bfa8900f  1.571428e+09    grocery_pos  96.22   \n",
       "4  35fd7db657d7e30dd608c37f7798186e  1.549840e+09  gas_transport  71.89   \n",
       "\n",
       "   is_fraud        merchant  merch_lat  merch_long  \n",
       "0       0.0  Phillips Group  39.491416  -75.588522  \n",
       "1       0.0      Tucker Ltd  40.890319  -75.573359  \n",
       "2       0.0       Dixon PLC  39.244958  -74.475327  \n",
       "3       0.0  Lambert-Cooper  39.656925  -75.802342  \n",
       "4       0.0    Griffith LLC  40.313342  -74.220434  \n",
       "\n",
       "[5 rows x 23 columns]"
      ]
     },
     "execution_count": 5,
     "metadata": {},
     "output_type": "execute_result"
    }
   ],
   "source": [
    "df.head()"
   ]
  },
  {
   "cell_type": "code",
   "execution_count": 6,
   "id": "c42be6ab",
   "metadata": {
    "scrolled": true
   },
   "outputs": [
    {
     "data": {
      "text/html": [
       "<div>\n",
       "<style scoped>\n",
       "    .dataframe tbody tr th:only-of-type {\n",
       "        vertical-align: middle;\n",
       "    }\n",
       "\n",
       "    .dataframe tbody tr th {\n",
       "        vertical-align: top;\n",
       "    }\n",
       "\n",
       "    .dataframe thead th {\n",
       "        text-align: right;\n",
       "    }\n",
       "</style>\n",
       "<table border=\"1\" class=\"dataframe\">\n",
       "  <thead>\n",
       "    <tr style=\"text-align: right;\">\n",
       "      <th></th>\n",
       "      <th>ssn</th>\n",
       "      <th>cc_num</th>\n",
       "      <th>first</th>\n",
       "      <th>last</th>\n",
       "      <th>gender</th>\n",
       "      <th>street</th>\n",
       "      <th>city</th>\n",
       "      <th>state</th>\n",
       "      <th>zip</th>\n",
       "      <th>lat</th>\n",
       "      <th>...</th>\n",
       "      <th>dob</th>\n",
       "      <th>acct_num</th>\n",
       "      <th>trans_num</th>\n",
       "      <th>unix_time</th>\n",
       "      <th>category</th>\n",
       "      <th>amt</th>\n",
       "      <th>is_fraud</th>\n",
       "      <th>merchant</th>\n",
       "      <th>merch_lat</th>\n",
       "      <th>merch_long</th>\n",
       "    </tr>\n",
       "  </thead>\n",
       "  <tbody>\n",
       "    <tr>\n",
       "      <th>4260916</th>\n",
       "      <td>107-40-0160</td>\n",
       "      <td>343251790447085</td>\n",
       "      <td>Isaac</td>\n",
       "      <td>Smith</td>\n",
       "      <td>M</td>\n",
       "      <td>67148 Rose Cliff Apt. 314</td>\n",
       "      <td>Saint Petersburg</td>\n",
       "      <td>FL</td>\n",
       "      <td>33710</td>\n",
       "      <td>27.7898</td>\n",
       "      <td>...</td>\n",
       "      <td>1942-07-21</td>\n",
       "      <td>298026601683</td>\n",
       "      <td>4eafc5b16da625c3436f2484d8dcabcb</td>\n",
       "      <td>1.627637e+09</td>\n",
       "      <td>health_fitness</td>\n",
       "      <td>7.47</td>\n",
       "      <td>0.0</td>\n",
       "      <td>Horton, Ware and Reynolds</td>\n",
       "      <td>27.707908</td>\n",
       "      <td>-82.320308</td>\n",
       "    </tr>\n",
       "    <tr>\n",
       "      <th>4260917</th>\n",
       "      <td>107-40-0160</td>\n",
       "      <td>343251790447085</td>\n",
       "      <td>Isaac</td>\n",
       "      <td>Smith</td>\n",
       "      <td>M</td>\n",
       "      <td>67148 Rose Cliff Apt. 314</td>\n",
       "      <td>Saint Petersburg</td>\n",
       "      <td>FL</td>\n",
       "      <td>33710</td>\n",
       "      <td>27.7898</td>\n",
       "      <td>...</td>\n",
       "      <td>1942-07-21</td>\n",
       "      <td>298026601683</td>\n",
       "      <td>041b18f68b893b68e7aa29c16a08a08d</td>\n",
       "      <td>1.624880e+09</td>\n",
       "      <td>food_dining</td>\n",
       "      <td>2.30</td>\n",
       "      <td>0.0</td>\n",
       "      <td>Hanson and Sons</td>\n",
       "      <td>27.896372</td>\n",
       "      <td>-83.387356</td>\n",
       "    </tr>\n",
       "    <tr>\n",
       "      <th>4260918</th>\n",
       "      <td>107-40-0160</td>\n",
       "      <td>343251790447085</td>\n",
       "      <td>Isaac</td>\n",
       "      <td>Smith</td>\n",
       "      <td>M</td>\n",
       "      <td>67148 Rose Cliff Apt. 314</td>\n",
       "      <td>Saint Petersburg</td>\n",
       "      <td>FL</td>\n",
       "      <td>33710</td>\n",
       "      <td>27.7898</td>\n",
       "      <td>...</td>\n",
       "      <td>1942-07-21</td>\n",
       "      <td>298026601683</td>\n",
       "      <td>a26df5348dfee4839f0fa00155e2ed1c</td>\n",
       "      <td>1.629798e+09</td>\n",
       "      <td>health_fitness</td>\n",
       "      <td>5.82</td>\n",
       "      <td>0.0</td>\n",
       "      <td>White LLC</td>\n",
       "      <td>27.110602</td>\n",
       "      <td>-82.426821</td>\n",
       "    </tr>\n",
       "    <tr>\n",
       "      <th>4260919</th>\n",
       "      <td>107-40-0160</td>\n",
       "      <td>343251790447085</td>\n",
       "      <td>Isaac</td>\n",
       "      <td>Smith</td>\n",
       "      <td>M</td>\n",
       "      <td>67148 Rose Cliff Apt. 314</td>\n",
       "      <td>Saint Petersburg</td>\n",
       "      <td>FL</td>\n",
       "      <td>33710</td>\n",
       "      <td>27.7898</td>\n",
       "      <td>...</td>\n",
       "      <td>1942-07-21</td>\n",
       "      <td>298026601683</td>\n",
       "      <td>e388fc8055b1426c62640baaae10108f</td>\n",
       "      <td>1.629977e+09</td>\n",
       "      <td>health_fitness</td>\n",
       "      <td>9.16</td>\n",
       "      <td>0.0</td>\n",
       "      <td>Snyder-Johnson</td>\n",
       "      <td>28.110510</td>\n",
       "      <td>-81.891797</td>\n",
       "    </tr>\n",
       "    <tr>\n",
       "      <th>4260920</th>\n",
       "      <td>107-40-0160</td>\n",
       "      <td>343251790447085</td>\n",
       "      <td>Isaac</td>\n",
       "      <td>Smith</td>\n",
       "      <td>M</td>\n",
       "      <td>67148 Rose Cliff Apt. 314</td>\n",
       "      <td>Saint Petersburg</td>\n",
       "      <td>FL</td>\n",
       "      <td>33710</td>\n",
       "      <td>27.7898</td>\n",
       "      <td>...</td>\n",
       "      <td>1942-07-21</td>\n",
       "      <td>298026601683</td>\n",
       "      <td>ed07c01568cceb91b94d7572d3dd5e0e</td>\n",
       "      <td>1.669255e+09</td>\n",
       "      <td>personal_care</td>\n",
       "      <td>8.29</td>\n",
       "      <td>0.0</td>\n",
       "      <td>Ewing-Russell</td>\n",
       "      <td>27.211428</td>\n",
       "      <td>-83.514176</td>\n",
       "    </tr>\n",
       "  </tbody>\n",
       "</table>\n",
       "<p>5 rows × 23 columns</p>\n",
       "</div>"
      ],
      "text/plain": [
       "                 ssn           cc_num  first   last gender  \\\n",
       "4260916  107-40-0160  343251790447085  Isaac  Smith      M   \n",
       "4260917  107-40-0160  343251790447085  Isaac  Smith      M   \n",
       "4260918  107-40-0160  343251790447085  Isaac  Smith      M   \n",
       "4260919  107-40-0160  343251790447085  Isaac  Smith      M   \n",
       "4260920  107-40-0160  343251790447085  Isaac  Smith      M   \n",
       "\n",
       "                            street              city state    zip      lat  \\\n",
       "4260916  67148 Rose Cliff Apt. 314  Saint Petersburg    FL  33710  27.7898   \n",
       "4260917  67148 Rose Cliff Apt. 314  Saint Petersburg    FL  33710  27.7898   \n",
       "4260918  67148 Rose Cliff Apt. 314  Saint Petersburg    FL  33710  27.7898   \n",
       "4260919  67148 Rose Cliff Apt. 314  Saint Petersburg    FL  33710  27.7898   \n",
       "4260920  67148 Rose Cliff Apt. 314  Saint Petersburg    FL  33710  27.7898   \n",
       "\n",
       "         ...         dob      acct_num                         trans_num  \\\n",
       "4260916  ...  1942-07-21  298026601683  4eafc5b16da625c3436f2484d8dcabcb   \n",
       "4260917  ...  1942-07-21  298026601683  041b18f68b893b68e7aa29c16a08a08d   \n",
       "4260918  ...  1942-07-21  298026601683  a26df5348dfee4839f0fa00155e2ed1c   \n",
       "4260919  ...  1942-07-21  298026601683  e388fc8055b1426c62640baaae10108f   \n",
       "4260920  ...  1942-07-21  298026601683  ed07c01568cceb91b94d7572d3dd5e0e   \n",
       "\n",
       "            unix_time        category   amt  is_fraud  \\\n",
       "4260916  1.627637e+09  health_fitness  7.47       0.0   \n",
       "4260917  1.624880e+09     food_dining  2.30       0.0   \n",
       "4260918  1.629798e+09  health_fitness  5.82       0.0   \n",
       "4260919  1.629977e+09  health_fitness  9.16       0.0   \n",
       "4260920  1.669255e+09   personal_care  8.29       0.0   \n",
       "\n",
       "                          merchant  merch_lat  merch_long  \n",
       "4260916  Horton, Ware and Reynolds  27.707908  -82.320308  \n",
       "4260917            Hanson and Sons  27.896372  -83.387356  \n",
       "4260918                  White LLC  27.110602  -82.426821  \n",
       "4260919             Snyder-Johnson  28.110510  -81.891797  \n",
       "4260920              Ewing-Russell  27.211428  -83.514176  \n",
       "\n",
       "[5 rows x 23 columns]"
      ]
     },
     "execution_count": 6,
     "metadata": {},
     "output_type": "execute_result"
    }
   ],
   "source": [
    "df.tail()"
   ]
  },
  {
   "cell_type": "code",
   "execution_count": 7,
   "id": "64da6a7f",
   "metadata": {
    "scrolled": true
   },
   "outputs": [
    {
     "data": {
      "text/plain": [
       "ssn            0\n",
       "cc_num         0\n",
       "first          0\n",
       "last           0\n",
       "gender         0\n",
       "street         0\n",
       "city           0\n",
       "state          0\n",
       "zip            0\n",
       "lat            0\n",
       "long           0\n",
       "city_pop       0\n",
       "job            0\n",
       "dob            0\n",
       "acct_num       0\n",
       "trans_num     17\n",
       "unix_time     17\n",
       "category      17\n",
       "amt           17\n",
       "is_fraud      17\n",
       "merchant      17\n",
       "merch_lat     17\n",
       "merch_long    17\n",
       "dtype: int64"
      ]
     },
     "execution_count": 7,
     "metadata": {},
     "output_type": "execute_result"
    }
   ],
   "source": [
    "df.isna().sum()"
   ]
  },
  {
   "cell_type": "code",
   "execution_count": 8,
   "id": "9aaeaffc",
   "metadata": {},
   "outputs": [],
   "source": [
    "df = df.dropna( axis=0)"
   ]
  },
  {
   "cell_type": "code",
   "execution_count": 9,
   "id": "81e14d51",
   "metadata": {},
   "outputs": [],
   "source": [
    "cols = ['first', 'last']\n",
    "df['full_name'] = df[cols].apply(lambda row: ' '.join(row.values.astype(str)), axis=1)"
   ]
  },
  {
   "cell_type": "code",
   "execution_count": 10,
   "id": "a92c5cb4",
   "metadata": {},
   "outputs": [
    {
     "data": {
      "text/plain": [
       "974"
      ]
     },
     "execution_count": 10,
     "metadata": {},
     "output_type": "execute_result"
    }
   ],
   "source": [
    "len(df['full_name'].unique())"
   ]
  },
  {
   "cell_type": "code",
   "execution_count": 11,
   "id": "bf016879",
   "metadata": {},
   "outputs": [
    {
     "data": {
      "text/plain": [
       "14"
      ]
     },
     "execution_count": 11,
     "metadata": {},
     "output_type": "execute_result"
    }
   ],
   "source": [
    "len(df['category'].unique())"
   ]
  },
  {
   "cell_type": "code",
   "execution_count": 12,
   "id": "1b06c726",
   "metadata": {},
   "outputs": [
    {
     "data": {
      "text/plain": [
       "0.0    0.998819\n",
       "1.0    0.001181\n",
       "Name: is_fraud, dtype: float64"
      ]
     },
     "execution_count": 12,
     "metadata": {},
     "output_type": "execute_result"
    }
   ],
   "source": [
    "df['is_fraud'].value_counts(normalize=True)"
   ]
  },
  {
   "cell_type": "code",
   "execution_count": 13,
   "id": "bab28110",
   "metadata": {
    "scrolled": true
   },
   "outputs": [
    {
     "name": "stdout",
     "output_type": "stream",
     "text": [
      "<class 'pandas.core.frame.DataFrame'>\n",
      "Int64Index: 4260904 entries, 0 to 4260920\n",
      "Data columns (total 24 columns):\n",
      " #   Column      Dtype  \n",
      "---  ------      -----  \n",
      " 0   ssn         object \n",
      " 1   cc_num      int64  \n",
      " 2   first       object \n",
      " 3   last        object \n",
      " 4   gender      object \n",
      " 5   street      object \n",
      " 6   city        object \n",
      " 7   state       object \n",
      " 8   zip         int64  \n",
      " 9   lat         float64\n",
      " 10  long        float64\n",
      " 11  city_pop    int64  \n",
      " 12  job         object \n",
      " 13  dob         object \n",
      " 14  acct_num    int64  \n",
      " 15  trans_num   object \n",
      " 16  unix_time   float64\n",
      " 17  category    object \n",
      " 18  amt         float64\n",
      " 19  is_fraud    float64\n",
      " 20  merchant    object \n",
      " 21  merch_lat   float64\n",
      " 22  merch_long  float64\n",
      " 23  full_name   object \n",
      "dtypes: float64(7), int64(4), object(13)\n",
      "memory usage: 812.7+ MB\n"
     ]
    }
   ],
   "source": [
    "df.info()"
   ]
  },
  {
   "cell_type": "code",
   "execution_count": 14,
   "id": "75162e27",
   "metadata": {},
   "outputs": [
    {
     "data": {
      "text/plain": [
       "0"
      ]
     },
     "execution_count": 14,
     "metadata": {},
     "output_type": "execute_result"
    }
   ],
   "source": [
    "df.duplicated().sum()"
   ]
  },
  {
   "cell_type": "code",
   "execution_count": 15,
   "id": "b77f615e",
   "metadata": {},
   "outputs": [
    {
     "data": {
      "text/plain": [
       "4114752"
      ]
     },
     "execution_count": 15,
     "metadata": {},
     "output_type": "execute_result"
    }
   ],
   "source": [
    "len(df['unix_time'].unique())"
   ]
  },
  {
   "cell_type": "code",
   "execution_count": 16,
   "id": "1c6d26b9",
   "metadata": {
    "scrolled": true
   },
   "outputs": [
    {
     "name": "stdout",
     "output_type": "stream",
     "text": [
      "           ssn         cc_num     first     last gender                street  \\\n",
      "0  115-04-4507  4218196001337  Jonathan  Johnson      M  863 Lawrence Valleys   \n",
      "1  115-04-4507  4218196001337  Jonathan  Johnson      M  863 Lawrence Valleys   \n",
      "2  115-04-4507  4218196001337  Jonathan  Johnson      M  863 Lawrence Valleys   \n",
      "3  115-04-4507  4218196001337  Jonathan  Johnson      M  863 Lawrence Valleys   \n",
      "4  115-04-4507  4218196001337  Jonathan  Johnson      M  863 Lawrence Valleys   \n",
      "\n",
      "     city state    zip      lat  ...                         trans_num  \\\n",
      "0  Ambler    PA  19002  40.1809  ...  91ab12e73ef38206e1121e9648d2408d   \n",
      "1  Ambler    PA  19002  40.1809  ...  071553d533a6822a4431c354c434ddcb   \n",
      "2  Ambler    PA  19002  40.1809  ...  0cfad38ef15e4749eff68dc83f62c151   \n",
      "3  Ambler    PA  19002  40.1809  ...  5782693d7c70f062f258cb30bfa8900f   \n",
      "4  Ambler    PA  19002  40.1809  ...  35fd7db657d7e30dd608c37f7798186e   \n",
      "\n",
      "      unix_time       category    amt  is_fraud        merchant  merch_lat  \\\n",
      "0  1.558720e+09  gas_transport  69.12       0.0  Phillips Group  39.491416   \n",
      "1  1.569426e+09    grocery_pos  68.11       0.0      Tucker Ltd  40.890319   \n",
      "2  1.577206e+09       misc_net  40.35       0.0       Dixon PLC  39.244958   \n",
      "3  1.571428e+09    grocery_pos  96.22       0.0  Lambert-Cooper  39.656925   \n",
      "4  1.549840e+09  gas_transport  71.89       0.0    Griffith LLC  40.313342   \n",
      "\n",
      "  merch_long         full_name           date_time  \n",
      "0 -75.588522  Jonathan Johnson 2019-05-24 17:39:10  \n",
      "1 -75.573359  Jonathan Johnson 2019-09-25 15:31:59  \n",
      "2 -74.475327  Jonathan Johnson 2019-12-24 16:40:01  \n",
      "3 -75.802342  Jonathan Johnson 2019-10-18 19:50:38  \n",
      "4 -74.220434  Jonathan Johnson 2019-02-10 23:13:20  \n",
      "\n",
      "[5 rows x 25 columns]\n"
     ]
    }
   ],
   "source": [
    "# convert the unix_time column to a datetime object\n",
    "df['date_time'] = pd.to_datetime(df['unix_time'], unit='s')\n",
    "\n",
    "# print the converted dataset\n",
    "print(df.head())"
   ]
  },
  {
   "cell_type": "markdown",
   "id": "bc256d23",
   "metadata": {},
   "source": [
    "we use the unit='s' parameter when calling pd.to_datetime to specify that the input unix_time column is in seconds. This allows pandas to convert the Unix time values to a datetime format that can be easily manipulated and analyzed."
   ]
  },
  {
   "cell_type": "code",
   "execution_count": 17,
   "id": "88bbca10",
   "metadata": {},
   "outputs": [
    {
     "data": {
      "image/png": "[encoded data removed]",
      "text/plain": [
       "<Figure size 640x480 with 1 Axes>"
      ]
     },
     "metadata": {},
     "output_type": "display_data"
    }
   ],
   "source": [
    "# group the transactions by date\n",
    "grouped = df.groupby('date_time').size().reset_index(name='transaction_num')\n",
    "\n",
    "# plot the transaction count over time\n",
    "plt.plot(grouped['date_time'], grouped['transaction_num'])\n",
    "\n",
    "# add axis labels and title\n",
    "plt.xlabel('Date')\n",
    "plt.ylabel('Transaction Count')\n",
    "plt.title('Transaction Count over Time')\n",
    "\n",
    "# display the plot\n",
    "plt.show()"
   ]
  },
  {
   "cell_type": "code",
   "execution_count": 18,
   "id": "54d3b1f1",
   "metadata": {},
   "outputs": [],
   "source": [
    "# # create a line chart using Plotly\n",
    "# fig = px.line(grouped, x='date_time', y='transaction_num')\n",
    "\n",
    "# # add axis labels and title\n",
    "# fig.update_layout(xaxis_title='Date', yaxis_title='Transaction Count', title='Transaction Count over Time')"
   ]
  },
  {
   "cell_type": "markdown",
   "id": "2d0b8df8",
   "metadata": {},
   "source": [
    "https://stackoverflow.com/questions/74485762/scikit-learn-linear-regression-using-datetime-values-and-forecasting"
   ]
  },
  {
   "cell_type": "code",
   "execution_count": 19,
   "id": "0bf7019b",
   "metadata": {},
   "outputs": [
    {
     "name": "stdout",
     "output_type": "stream",
     "text": [
      "<class 'pandas.core.series.Series'>\n",
      "Int64Index: 4260904 entries, 0 to 4260920\n",
      "Series name: amt\n",
      "Non-Null Count    Dtype  \n",
      "--------------    -----  \n",
      "4260904 non-null  float64\n",
      "dtypes: float64(1)\n",
      "memory usage: 65.0 MB\n"
     ]
    }
   ],
   "source": [
    "df['amt'].info()"
   ]
  },
  {
   "cell_type": "code",
   "execution_count": 20,
   "id": "03937a19",
   "metadata": {},
   "outputs": [
    {
     "data": {
      "text/plain": [
       "41300.53"
      ]
     },
     "execution_count": 20,
     "metadata": {},
     "output_type": "execute_result"
    }
   ],
   "source": [
    "df['amt'].max()"
   ]
  },
  {
   "cell_type": "code",
   "execution_count": 21,
   "id": "ddf7c4d6",
   "metadata": {},
   "outputs": [
    {
     "data": {
      "text/plain": [
       "44.49"
      ]
     },
     "execution_count": 21,
     "metadata": {},
     "output_type": "execute_result"
    }
   ],
   "source": [
    "df['amt'].median()"
   ]
  },
  {
   "cell_type": "code",
   "execution_count": 22,
   "id": "56734616",
   "metadata": {},
   "outputs": [
    {
     "data": {
      "text/plain": [
       "505"
      ]
     },
     "execution_count": 22,
     "metadata": {},
     "output_type": "execute_result"
    }
   ],
   "source": [
    "len(df['job'].unique())"
   ]
  },
  {
   "cell_type": "code",
   "execution_count": 23,
   "id": "9c09b755",
   "metadata": {},
   "outputs": [
    {
     "data": {
      "text/plain": [
       "974"
      ]
     },
     "execution_count": 23,
     "metadata": {},
     "output_type": "execute_result"
    }
   ],
   "source": [
    "len(df['full_name'].unique())"
   ]
  },
  {
   "cell_type": "code",
   "execution_count": null,
   "id": "f421c020",
   "metadata": {},
   "outputs": [],
   "source": []
  }
 ],
 "metadata": {
  "kernelspec": {
   "display_name": "Python 3 (ipykernel)",
   "language": "python",
   "name": "python3"
  },
  "language_info": {
   "codemirror_mode": {
    "name": "ipython",
    "version": 3
   },
   "file_extension": ".py",
   "mimetype": "text/x-python",
   "name": "python",
   "nbconvert_exporter": "python",
   "pygments_lexer": "ipython3",
   "version": "3.9.13"
  }
 },
 "nbformat": 4,
 "nbformat_minor": 5
}
