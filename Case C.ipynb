{
 "cells": [
  {
   "cell_type": "markdown",
   "id": "a5b74aff",
   "metadata": {},
   "source": [
    "# AT3 Group 11 - Targeting customers most likely to have a significant increase in spending in the next 3 months\n",
    "**Name**: Azana Khan <br>\n",
    "**Student Id** : 14106710\n",
    "## Aim\n",
    "Helping Sales Team to target customers most likely to have a significant increase in spending in the next 3 months "
   ]
  },
  {
   "cell_type": "markdown",
   "id": "dffb75be",
   "metadata": {},
   "source": [
    "### Importing and Exploring the data"
   ]
  },
  {
   "cell_type": "code",
   "execution_count": 1,
   "id": "d6688f9a",
   "metadata": {},
   "outputs": [],
   "source": [
    "import pandas as pd\n",
    "import numpy as np\n",
    "\n",
    "## for visualization\n",
    "import matplotlib.pyplot as plt\n",
    "import plotly.express as px\n",
    "import plotly.graph_objects as go\n",
    "import seaborn as sns\n",
    "\n",
    "# for datetime column\n",
    "from datetime import datetime, date\n",
    "\n",
    "# avoid the warning display\n",
    "import warnings\n",
    "warnings.filterwarnings(\"ignore\")"
   ]
  },
  {
   "cell_type": "code",
   "execution_count": 2,
   "id": "7b6dfd60",
   "metadata": {},
   "outputs": [],
   "source": [
    "# Read the data\n",
    "df = pd.read_csv('C:/Users/Yashmita/Desktop/transactions/df.csv')"
   ]
  },
  {
   "cell_type": "code",
   "execution_count": 3,
   "id": "a0b0eef8",
   "metadata": {},
   "outputs": [
    {
     "data": {
      "text/plain": [
       "(4260921, 24)"
      ]
     },
     "execution_count": 3,
     "metadata": {},
     "output_type": "execute_result"
    }
   ],
   "source": [
    "df.shape"
   ]
  },
  {
   "cell_type": "code",
   "execution_count": 4,
   "id": "5e65c597",
   "metadata": {},
   "outputs": [
    {
     "data": {
      "text/html": [
       "<div>\n",
       "<style scoped>\n",
       "    .dataframe tbody tr th:only-of-type {\n",
       "        vertical-align: middle;\n",
       "    }\n",
       "\n",
       "    .dataframe tbody tr th {\n",
       "        vertical-align: top;\n",
       "    }\n",
       "\n",
       "    .dataframe thead th {\n",
       "        text-align: right;\n",
       "    }\n",
       "</style>\n",
       "<table border=\"1\" class=\"dataframe\">\n",
       "  <thead>\n",
       "    <tr style=\"text-align: right;\">\n",
       "      <th></th>\n",
       "      <th>Unnamed: 0</th>\n",
       "      <th>ssn</th>\n",
       "      <th>cc_num</th>\n",
       "      <th>first</th>\n",
       "      <th>last</th>\n",
       "      <th>gender</th>\n",
       "      <th>street</th>\n",
       "      <th>city</th>\n",
       "      <th>state</th>\n",
       "      <th>zip</th>\n",
       "      <th>...</th>\n",
       "      <th>dob</th>\n",
       "      <th>acct_num</th>\n",
       "      <th>trans_num</th>\n",
       "      <th>unix_time</th>\n",
       "      <th>category</th>\n",
       "      <th>amt</th>\n",
       "      <th>is_fraud</th>\n",
       "      <th>merchant</th>\n",
       "      <th>merch_lat</th>\n",
       "      <th>merch_long</th>\n",
       "    </tr>\n",
       "  </thead>\n",
       "  <tbody>\n",
       "    <tr>\n",
       "      <th>0</th>\n",
       "      <td>0</td>\n",
       "      <td>115-04-4507</td>\n",
       "      <td>4218196001337</td>\n",
       "      <td>Jonathan</td>\n",
       "      <td>Johnson</td>\n",
       "      <td>M</td>\n",
       "      <td>863 Lawrence Valleys</td>\n",
       "      <td>Ambler</td>\n",
       "      <td>PA</td>\n",
       "      <td>19002</td>\n",
       "      <td>...</td>\n",
       "      <td>1959-10-03</td>\n",
       "      <td>888022315787</td>\n",
       "      <td>91ab12e73ef38206e1121e9648d2408d</td>\n",
       "      <td>1.558720e+09</td>\n",
       "      <td>gas_transport</td>\n",
       "      <td>69.12</td>\n",
       "      <td>0.0</td>\n",
       "      <td>Phillips Group</td>\n",
       "      <td>39.491416</td>\n",
       "      <td>-75.588522</td>\n",
       "    </tr>\n",
       "    <tr>\n",
       "      <th>1</th>\n",
       "      <td>1</td>\n",
       "      <td>115-04-4507</td>\n",
       "      <td>4218196001337</td>\n",
       "      <td>Jonathan</td>\n",
       "      <td>Johnson</td>\n",
       "      <td>M</td>\n",
       "      <td>863 Lawrence Valleys</td>\n",
       "      <td>Ambler</td>\n",
       "      <td>PA</td>\n",
       "      <td>19002</td>\n",
       "      <td>...</td>\n",
       "      <td>1959-10-03</td>\n",
       "      <td>888022315787</td>\n",
       "      <td>071553d533a6822a4431c354c434ddcb</td>\n",
       "      <td>1.569426e+09</td>\n",
       "      <td>grocery_pos</td>\n",
       "      <td>68.11</td>\n",
       "      <td>0.0</td>\n",
       "      <td>Tucker Ltd</td>\n",
       "      <td>40.890319</td>\n",
       "      <td>-75.573359</td>\n",
       "    </tr>\n",
       "    <tr>\n",
       "      <th>2</th>\n",
       "      <td>2</td>\n",
       "      <td>115-04-4507</td>\n",
       "      <td>4218196001337</td>\n",
       "      <td>Jonathan</td>\n",
       "      <td>Johnson</td>\n",
       "      <td>M</td>\n",
       "      <td>863 Lawrence Valleys</td>\n",
       "      <td>Ambler</td>\n",
       "      <td>PA</td>\n",
       "      <td>19002</td>\n",
       "      <td>...</td>\n",
       "      <td>1959-10-03</td>\n",
       "      <td>888022315787</td>\n",
       "      <td>0cfad38ef15e4749eff68dc83f62c151</td>\n",
       "      <td>1.577206e+09</td>\n",
       "      <td>misc_net</td>\n",
       "      <td>40.35</td>\n",
       "      <td>0.0</td>\n",
       "      <td>Dixon PLC</td>\n",
       "      <td>39.244958</td>\n",
       "      <td>-74.475327</td>\n",
       "    </tr>\n",
       "    <tr>\n",
       "      <th>3</th>\n",
       "      <td>3</td>\n",
       "      <td>115-04-4507</td>\n",
       "      <td>4218196001337</td>\n",
       "      <td>Jonathan</td>\n",
       "      <td>Johnson</td>\n",
       "      <td>M</td>\n",
       "      <td>863 Lawrence Valleys</td>\n",
       "      <td>Ambler</td>\n",
       "      <td>PA</td>\n",
       "      <td>19002</td>\n",
       "      <td>...</td>\n",
       "      <td>1959-10-03</td>\n",
       "      <td>888022315787</td>\n",
       "      <td>5782693d7c70f062f258cb30bfa8900f</td>\n",
       "      <td>1.571428e+09</td>\n",
       "      <td>grocery_pos</td>\n",
       "      <td>96.22</td>\n",
       "      <td>0.0</td>\n",
       "      <td>Lambert-Cooper</td>\n",
       "      <td>39.656925</td>\n",
       "      <td>-75.802342</td>\n",
       "    </tr>\n",
       "    <tr>\n",
       "      <th>4</th>\n",
       "      <td>4</td>\n",
       "      <td>115-04-4507</td>\n",
       "      <td>4218196001337</td>\n",
       "      <td>Jonathan</td>\n",
       "      <td>Johnson</td>\n",
       "      <td>M</td>\n",
       "      <td>863 Lawrence Valleys</td>\n",
       "      <td>Ambler</td>\n",
       "      <td>PA</td>\n",
       "      <td>19002</td>\n",
       "      <td>...</td>\n",
       "      <td>1959-10-03</td>\n",
       "      <td>888022315787</td>\n",
       "      <td>35fd7db657d7e30dd608c37f7798186e</td>\n",
       "      <td>1.549840e+09</td>\n",
       "      <td>gas_transport</td>\n",
       "      <td>71.89</td>\n",
       "      <td>0.0</td>\n",
       "      <td>Griffith LLC</td>\n",
       "      <td>40.313342</td>\n",
       "      <td>-74.220434</td>\n",
       "    </tr>\n",
       "  </tbody>\n",
       "</table>\n",
       "<p>5 rows × 24 columns</p>\n",
       "</div>"
      ],
      "text/plain": [
       "   Unnamed: 0          ssn         cc_num     first     last gender  \\\n",
       "0           0  115-04-4507  4218196001337  Jonathan  Johnson      M   \n",
       "1           1  115-04-4507  4218196001337  Jonathan  Johnson      M   \n",
       "2           2  115-04-4507  4218196001337  Jonathan  Johnson      M   \n",
       "3           3  115-04-4507  4218196001337  Jonathan  Johnson      M   \n",
       "4           4  115-04-4507  4218196001337  Jonathan  Johnson      M   \n",
       "\n",
       "                 street    city state    zip  ...         dob      acct_num  \\\n",
       "0  863 Lawrence Valleys  Ambler    PA  19002  ...  1959-10-03  888022315787   \n",
       "1  863 Lawrence Valleys  Ambler    PA  19002  ...  1959-10-03  888022315787   \n",
       "2  863 Lawrence Valleys  Ambler    PA  19002  ...  1959-10-03  888022315787   \n",
       "3  863 Lawrence Valleys  Ambler    PA  19002  ...  1959-10-03  888022315787   \n",
       "4  863 Lawrence Valleys  Ambler    PA  19002  ...  1959-10-03  888022315787   \n",
       "\n",
       "                          trans_num     unix_time       category    amt  \\\n",
       "0  91ab12e73ef38206e1121e9648d2408d  1.558720e+09  gas_transport  69.12   \n",
       "1  071553d533a6822a4431c354c434ddcb  1.569426e+09    grocery_pos  68.11   \n",
       "2  0cfad38ef15e4749eff68dc83f62c151  1.577206e+09       misc_net  40.35   \n",
       "3  5782693d7c70f062f258cb30bfa8900f  1.571428e+09    grocery_pos  96.22   \n",
       "4  35fd7db657d7e30dd608c37f7798186e  1.549840e+09  gas_transport  71.89   \n",
       "\n",
       "  is_fraud        merchant  merch_lat  merch_long  \n",
       "0      0.0  Phillips Group  39.491416  -75.588522  \n",
       "1      0.0      Tucker Ltd  40.890319  -75.573359  \n",
       "2      0.0       Dixon PLC  39.244958  -74.475327  \n",
       "3      0.0  Lambert-Cooper  39.656925  -75.802342  \n",
       "4      0.0    Griffith LLC  40.313342  -74.220434  \n",
       "\n",
       "[5 rows x 24 columns]"
      ]
     },
     "execution_count": 4,
     "metadata": {},
     "output_type": "execute_result"
    }
   ],
   "source": [
    "df.head()"
   ]
  },
  {
   "cell_type": "code",
   "execution_count": 5,
   "id": "cd7b1178",
   "metadata": {},
   "outputs": [
    {
     "name": "stdout",
     "output_type": "stream",
     "text": [
      "Unnamed: 0      int64\n",
      "ssn            object\n",
      "cc_num          int64\n",
      "first          object\n",
      "last           object\n",
      "gender         object\n",
      "street         object\n",
      "city           object\n",
      "state          object\n",
      "zip             int64\n",
      "lat           float64\n",
      "long          float64\n",
      "city_pop        int64\n",
      "job            object\n",
      "dob            object\n",
      "acct_num        int64\n",
      "trans_num      object\n",
      "unix_time     float64\n",
      "category       object\n",
      "amt           float64\n",
      "is_fraud      float64\n",
      "merchant       object\n",
      "merch_lat     float64\n",
      "merch_long    float64\n",
      "dtype: object\n"
     ]
    }
   ],
   "source": [
    "# Check the column names and data types\n",
    "print(df.dtypes)"
   ]
  },
  {
   "cell_type": "markdown",
   "id": "52b8e919",
   "metadata": {},
   "source": [
    "#### Treating Missing Values"
   ]
  },
  {
   "cell_type": "code",
   "execution_count": 6,
   "id": "2cf9785f",
   "metadata": {},
   "outputs": [
    {
     "name": "stdout",
     "output_type": "stream",
     "text": [
      "Unnamed: 0     0\n",
      "ssn            0\n",
      "cc_num         0\n",
      "first          0\n",
      "last           0\n",
      "gender         0\n",
      "street         0\n",
      "city           0\n",
      "state          0\n",
      "zip            0\n",
      "lat            0\n",
      "long           0\n",
      "city_pop       0\n",
      "job            0\n",
      "dob            0\n",
      "acct_num       0\n",
      "trans_num     17\n",
      "unix_time     17\n",
      "category      17\n",
      "amt           17\n",
      "is_fraud      17\n",
      "merchant      17\n",
      "merch_lat     17\n",
      "merch_long    17\n",
      "dtype: int64\n"
     ]
    }
   ],
   "source": [
    "# Check for missing values\n",
    "print(df.isnull().sum())"
   ]
  },
  {
   "cell_type": "code",
   "execution_count": 7,
   "id": "3257c68a",
   "metadata": {},
   "outputs": [],
   "source": [
    "# Handling missing values\n",
    "df = df.dropna()  # Remove rows with missing values, or you can impute missing values if appropriate"
   ]
  },
  {
   "cell_type": "markdown",
   "id": "2c04b1e8",
   "metadata": {},
   "source": [
    "#### Relevant Features considering our aim"
   ]
  },
  {
   "cell_type": "code",
   "execution_count": 8,
   "id": "7cc00ea4",
   "metadata": {},
   "outputs": [],
   "source": [
    "# Identify relevant features for predicting spending increase\n",
    "relevant_features = ['cc_num', 'gender', 'job', 'dob', 'Category', 'amt']  # Add other relevant columns as needed"
   ]
  },
  {
   "cell_type": "markdown",
   "id": "bbd455b8",
   "metadata": {},
   "source": [
    "#### Dealing with duplicates"
   ]
  },
  {
   "cell_type": "code",
   "execution_count": 9,
   "id": "e696a01b",
   "metadata": {},
   "outputs": [],
   "source": [
    "# Handling duplicate records\n",
    "df = df.drop_duplicates()  # Remove duplicate records if necessary"
   ]
  },
  {
   "cell_type": "markdown",
   "id": "59a1048c",
   "metadata": {},
   "source": [
    "#### Converting categorical data to numerical data"
   ]
  },
  {
   "cell_type": "code",
   "execution_count": 10,
   "id": "1d20a806",
   "metadata": {},
   "outputs": [],
   "source": [
    "# Convert categorical variables\n",
    "categorical_cols = ['gender', 'job']  # Add other categorical columns as needed"
   ]
  },
  {
   "cell_type": "code",
   "execution_count": 11,
   "id": "53520632",
   "metadata": {},
   "outputs": [],
   "source": [
    "df_encoded = pd.get_dummies(df, columns=categorical_cols, drop_first=True)"
   ]
  },
  {
   "cell_type": "markdown",
   "id": "15192d5e",
   "metadata": {},
   "source": [
    "### Scaling numerical features"
   ]
  },
  {
   "cell_type": "code",
   "execution_count": 12,
   "id": "6b65cb05",
   "metadata": {},
   "outputs": [],
   "source": [
    "# Normalize numerical features\n",
    "numerical_cols = ['amt', 'lat', 'long', 'merch_lat', 'merch_long']  # Add other numerical columns as needed"
   ]
  },
  {
   "cell_type": "code",
   "execution_count": 13,
   "id": "a34f3b2c",
   "metadata": {},
   "outputs": [],
   "source": [
    "from sklearn.preprocessing import StandardScaler\n",
    "scaler = StandardScaler()\n",
    "df_encoded[numerical_cols] = scaler.fit_transform(df_encoded[numerical_cols])"
   ]
  },
  {
   "cell_type": "code",
   "execution_count": 14,
   "id": "79e9fd5f",
   "metadata": {},
   "outputs": [],
   "source": [
    "# Final preprocessed dataset\n",
    "preprocessed_df = df_encoded"
   ]
  },
  {
   "cell_type": "code",
   "execution_count": 15,
   "id": "557fef3e",
   "metadata": {},
   "outputs": [
    {
     "data": {
      "text/plain": [
       "(4260904, 527)"
      ]
     },
     "execution_count": 15,
     "metadata": {},
     "output_type": "execute_result"
    }
   ],
   "source": [
    "preprocessed_df.shape"
   ]
  },
  {
   "cell_type": "code",
   "execution_count": 16,
   "id": "403f331d",
   "metadata": {},
   "outputs": [
    {
     "data": {
      "text/html": [
       "<div>\n",
       "<style scoped>\n",
       "    .dataframe tbody tr th:only-of-type {\n",
       "        vertical-align: middle;\n",
       "    }\n",
       "\n",
       "    .dataframe tbody tr th {\n",
       "        vertical-align: top;\n",
       "    }\n",
       "\n",
       "    .dataframe thead th {\n",
       "        text-align: right;\n",
       "    }\n",
       "</style>\n",
       "<table border=\"1\" class=\"dataframe\">\n",
       "  <thead>\n",
       "    <tr style=\"text-align: right;\">\n",
       "      <th></th>\n",
       "      <th>Unnamed: 0</th>\n",
       "      <th>ssn</th>\n",
       "      <th>cc_num</th>\n",
       "      <th>first</th>\n",
       "      <th>last</th>\n",
       "      <th>street</th>\n",
       "      <th>city</th>\n",
       "      <th>state</th>\n",
       "      <th>zip</th>\n",
       "      <th>lat</th>\n",
       "      <th>...</th>\n",
       "      <th>job_Visual merchandiser</th>\n",
       "      <th>job_Volunteer coordinator</th>\n",
       "      <th>job_Warden/ranger</th>\n",
       "      <th>job_Warehouse manager</th>\n",
       "      <th>job_Waste management officer</th>\n",
       "      <th>job_Water engineer</th>\n",
       "      <th>job_Water quality scientist</th>\n",
       "      <th>job_Wellsite geologist</th>\n",
       "      <th>job_Writer</th>\n",
       "      <th>job_Youth worker</th>\n",
       "    </tr>\n",
       "  </thead>\n",
       "  <tbody>\n",
       "    <tr>\n",
       "      <th>0</th>\n",
       "      <td>0</td>\n",
       "      <td>115-04-4507</td>\n",
       "      <td>4218196001337</td>\n",
       "      <td>Jonathan</td>\n",
       "      <td>Johnson</td>\n",
       "      <td>863 Lawrence Valleys</td>\n",
       "      <td>Ambler</td>\n",
       "      <td>PA</td>\n",
       "      <td>19002</td>\n",
       "      <td>0.516629</td>\n",
       "      <td>...</td>\n",
       "      <td>0</td>\n",
       "      <td>0</td>\n",
       "      <td>0</td>\n",
       "      <td>0</td>\n",
       "      <td>0</td>\n",
       "      <td>0</td>\n",
       "      <td>0</td>\n",
       "      <td>0</td>\n",
       "      <td>0</td>\n",
       "      <td>0</td>\n",
       "    </tr>\n",
       "    <tr>\n",
       "      <th>1</th>\n",
       "      <td>1</td>\n",
       "      <td>115-04-4507</td>\n",
       "      <td>4218196001337</td>\n",
       "      <td>Jonathan</td>\n",
       "      <td>Johnson</td>\n",
       "      <td>863 Lawrence Valleys</td>\n",
       "      <td>Ambler</td>\n",
       "      <td>PA</td>\n",
       "      <td>19002</td>\n",
       "      <td>0.516629</td>\n",
       "      <td>...</td>\n",
       "      <td>0</td>\n",
       "      <td>0</td>\n",
       "      <td>0</td>\n",
       "      <td>0</td>\n",
       "      <td>0</td>\n",
       "      <td>0</td>\n",
       "      <td>0</td>\n",
       "      <td>0</td>\n",
       "      <td>0</td>\n",
       "      <td>0</td>\n",
       "    </tr>\n",
       "    <tr>\n",
       "      <th>2</th>\n",
       "      <td>2</td>\n",
       "      <td>115-04-4507</td>\n",
       "      <td>4218196001337</td>\n",
       "      <td>Jonathan</td>\n",
       "      <td>Johnson</td>\n",
       "      <td>863 Lawrence Valleys</td>\n",
       "      <td>Ambler</td>\n",
       "      <td>PA</td>\n",
       "      <td>19002</td>\n",
       "      <td>0.516629</td>\n",
       "      <td>...</td>\n",
       "      <td>0</td>\n",
       "      <td>0</td>\n",
       "      <td>0</td>\n",
       "      <td>0</td>\n",
       "      <td>0</td>\n",
       "      <td>0</td>\n",
       "      <td>0</td>\n",
       "      <td>0</td>\n",
       "      <td>0</td>\n",
       "      <td>0</td>\n",
       "    </tr>\n",
       "    <tr>\n",
       "      <th>3</th>\n",
       "      <td>3</td>\n",
       "      <td>115-04-4507</td>\n",
       "      <td>4218196001337</td>\n",
       "      <td>Jonathan</td>\n",
       "      <td>Johnson</td>\n",
       "      <td>863 Lawrence Valleys</td>\n",
       "      <td>Ambler</td>\n",
       "      <td>PA</td>\n",
       "      <td>19002</td>\n",
       "      <td>0.516629</td>\n",
       "      <td>...</td>\n",
       "      <td>0</td>\n",
       "      <td>0</td>\n",
       "      <td>0</td>\n",
       "      <td>0</td>\n",
       "      <td>0</td>\n",
       "      <td>0</td>\n",
       "      <td>0</td>\n",
       "      <td>0</td>\n",
       "      <td>0</td>\n",
       "      <td>0</td>\n",
       "    </tr>\n",
       "    <tr>\n",
       "      <th>4</th>\n",
       "      <td>4</td>\n",
       "      <td>115-04-4507</td>\n",
       "      <td>4218196001337</td>\n",
       "      <td>Jonathan</td>\n",
       "      <td>Johnson</td>\n",
       "      <td>863 Lawrence Valleys</td>\n",
       "      <td>Ambler</td>\n",
       "      <td>PA</td>\n",
       "      <td>19002</td>\n",
       "      <td>0.516629</td>\n",
       "      <td>...</td>\n",
       "      <td>0</td>\n",
       "      <td>0</td>\n",
       "      <td>0</td>\n",
       "      <td>0</td>\n",
       "      <td>0</td>\n",
       "      <td>0</td>\n",
       "      <td>0</td>\n",
       "      <td>0</td>\n",
       "      <td>0</td>\n",
       "      <td>0</td>\n",
       "    </tr>\n",
       "  </tbody>\n",
       "</table>\n",
       "<p>5 rows × 527 columns</p>\n",
       "</div>"
      ],
      "text/plain": [
       "   Unnamed: 0          ssn         cc_num     first     last  \\\n",
       "0           0  115-04-4507  4218196001337  Jonathan  Johnson   \n",
       "1           1  115-04-4507  4218196001337  Jonathan  Johnson   \n",
       "2           2  115-04-4507  4218196001337  Jonathan  Johnson   \n",
       "3           3  115-04-4507  4218196001337  Jonathan  Johnson   \n",
       "4           4  115-04-4507  4218196001337  Jonathan  Johnson   \n",
       "\n",
       "                 street    city state    zip       lat  ...  \\\n",
       "0  863 Lawrence Valleys  Ambler    PA  19002  0.516629  ...   \n",
       "1  863 Lawrence Valleys  Ambler    PA  19002  0.516629  ...   \n",
       "2  863 Lawrence Valleys  Ambler    PA  19002  0.516629  ...   \n",
       "3  863 Lawrence Valleys  Ambler    PA  19002  0.516629  ...   \n",
       "4  863 Lawrence Valleys  Ambler    PA  19002  0.516629  ...   \n",
       "\n",
       "   job_Visual merchandiser  job_Volunteer coordinator job_Warden/ranger  \\\n",
       "0                        0                          0                 0   \n",
       "1                        0                          0                 0   \n",
       "2                        0                          0                 0   \n",
       "3                        0                          0                 0   \n",
       "4                        0                          0                 0   \n",
       "\n",
       "   job_Warehouse manager job_Waste management officer  job_Water engineer  \\\n",
       "0                      0                            0                   0   \n",
       "1                      0                            0                   0   \n",
       "2                      0                            0                   0   \n",
       "3                      0                            0                   0   \n",
       "4                      0                            0                   0   \n",
       "\n",
       "  job_Water quality scientist  job_Wellsite geologist  job_Writer  \\\n",
       "0                           0                       0           0   \n",
       "1                           0                       0           0   \n",
       "2                           0                       0           0   \n",
       "3                           0                       0           0   \n",
       "4                           0                       0           0   \n",
       "\n",
       "  job_Youth worker  \n",
       "0                0  \n",
       "1                0  \n",
       "2                0  \n",
       "3                0  \n",
       "4                0  \n",
       "\n",
       "[5 rows x 527 columns]"
      ]
     },
     "execution_count": 16,
     "metadata": {},
     "output_type": "execute_result"
    }
   ],
   "source": [
    "preprocessed_df.head()"
   ]
  },
  {
   "cell_type": "markdown",
   "id": "89656564",
   "metadata": {},
   "source": [
    "### Feature Engineering"
   ]
  },
  {
   "cell_type": "code",
   "execution_count": 17,
   "id": "54a935a7",
   "metadata": {},
   "outputs": [],
   "source": [
    "from datetime import datetime\n",
    "\n",
    "# Calculate aggregate statistics from transaction history\n",
    "agg_df = df.groupby('ssn').agg({'amt': ['sum', 'mean', 'count']})\n",
    "agg_df.columns = ['total_spending', 'avg_spending_per_transaction', 'transaction_count']\n",
    "df = df.merge(agg_df, on='ssn', how='left')"
   ]
  },
  {
   "cell_type": "code",
   "execution_count": 18,
   "id": "875c98de",
   "metadata": {},
   "outputs": [],
   "source": [
    "# Extract age from date of birth (dob)\n",
    "df['dob'] = pd.to_datetime(df['dob'])\n",
    "df['age'] = (datetime.now() - df['dob']).astype('<m8[Y]')"
   ]
  },
  {
   "cell_type": "code",
   "execution_count": 19,
   "id": "96da3f63",
   "metadata": {},
   "outputs": [],
   "source": [
    "# Define age groups based on age\n",
    "def get_age_group(age):\n",
    "    if age < 18:\n",
    "        return 'Under 18'\n",
    "    elif age < 30:\n",
    "        return '18-29'\n",
    "    elif age < 40:\n",
    "        return '30-39'\n",
    "    elif age < 50:\n",
    "        return '40-49'\n",
    "    elif age < 60:\n",
    "        return '50-59'\n",
    "    else:\n",
    "        return '60+'\n",
    "\n",
    "df['age_group'] = df['age'].apply(get_age_group)"
   ]
  },
  {
   "cell_type": "code",
   "execution_count": 20,
   "id": "c02e056a",
   "metadata": {},
   "outputs": [],
   "source": [
    "# Drop unnecessary columns\n",
    "df.drop(['dob', 'ssn'], axis=1, inplace=True)"
   ]
  },
  {
   "cell_type": "code",
   "execution_count": 21,
   "id": "bd17b040",
   "metadata": {},
   "outputs": [],
   "source": [
    "# Final dataset with engineered features\n",
    "final_df = df"
   ]
  },
  {
   "cell_type": "markdown",
   "id": "b6b665e8",
   "metadata": {},
   "source": [
    "### Target Variable"
   ]
  },
  {
   "cell_type": "code",
   "execution_count": 22,
   "id": "0b20ea61",
   "metadata": {},
   "outputs": [],
   "source": [
    "# Define the threshold for a significant spending increase\n",
    "threshold_increase = 1000  # Replace with your desired threshold"
   ]
  },
  {
   "cell_type": "code",
   "execution_count": 23,
   "id": "27bb2b74",
   "metadata": {},
   "outputs": [],
   "source": [
    "# Calculate the spending increase for each customer over the next 3 months\n",
    "df['spending_increase'] = df.groupby('acct_num')['amt'].diff(periods=-3)  # Assuming the dataset is sorted by date"
   ]
  },
  {
   "cell_type": "code",
   "execution_count": 24,
   "id": "d1dcd8f8",
   "metadata": {},
   "outputs": [],
   "source": [
    "# Create the target variable indicating whether a customer has a significant spending increase or not\n",
    "df['target'] = (df['spending_increase'] > threshold_increase).astype(int)"
   ]
  },
  {
   "cell_type": "code",
   "execution_count": 25,
   "id": "5f9c5aac",
   "metadata": {},
   "outputs": [],
   "source": [
    "# Drop rows with missing values in the target variable\n",
    "df = df.dropna(subset=['target'])\n"
   ]
  },
  {
   "cell_type": "code",
   "execution_count": 26,
   "id": "b63e1ac4",
   "metadata": {},
   "outputs": [],
   "source": [
    "# Final dataset with the target variable\n",
    "final_df = df"
   ]
  },
  {
   "cell_type": "code",
   "execution_count": 27,
   "id": "0bbb4837",
   "metadata": {},
   "outputs": [
    {
     "data": {
      "text/plain": [
       "(4260904, 29)"
      ]
     },
     "execution_count": 27,
     "metadata": {},
     "output_type": "execute_result"
    }
   ],
   "source": [
    "final_df.shape"
   ]
  },
  {
   "cell_type": "code",
   "execution_count": 28,
   "id": "e01f2004",
   "metadata": {},
   "outputs": [
    {
     "name": "stdout",
     "output_type": "stream",
     "text": [
      "<class 'pandas.core.frame.DataFrame'>\n",
      "Int64Index: 4260904 entries, 0 to 4260903\n",
      "Data columns (total 29 columns):\n",
      " #   Column                        Dtype  \n",
      "---  ------                        -----  \n",
      " 0   Unnamed: 0                    int64  \n",
      " 1   cc_num                        int64  \n",
      " 2   first                         object \n",
      " 3   last                          object \n",
      " 4   gender                        object \n",
      " 5   street                        object \n",
      " 6   city                          object \n",
      " 7   state                         object \n",
      " 8   zip                           int64  \n",
      " 9   lat                           float64\n",
      " 10  long                          float64\n",
      " 11  city_pop                      int64  \n",
      " 12  job                           object \n",
      " 13  acct_num                      int64  \n",
      " 14  trans_num                     object \n",
      " 15  unix_time                     float64\n",
      " 16  category                      object \n",
      " 17  amt                           float64\n",
      " 18  is_fraud                      float64\n",
      " 19  merchant                      object \n",
      " 20  merch_lat                     float64\n",
      " 21  merch_long                    float64\n",
      " 22  total_spending                float64\n",
      " 23  avg_spending_per_transaction  float64\n",
      " 24  transaction_count             int64  \n",
      " 25  age                           float64\n",
      " 26  age_group                     object \n",
      " 27  spending_increase             float64\n",
      " 28  target                        int32  \n",
      "dtypes: float64(11), int32(1), int64(6), object(11)\n",
      "memory usage: 959.0+ MB\n"
     ]
    }
   ],
   "source": [
    "final_df.info()"
   ]
  },
  {
   "cell_type": "markdown",
   "id": "0d49827b",
   "metadata": {},
   "source": [
    "### Dropping irrelevant columns"
   ]
  },
  {
   "cell_type": "code",
   "execution_count": 29,
   "id": "518035e1",
   "metadata": {},
   "outputs": [],
   "source": [
    "columns_to_drop = ['Unnamed: 0', 'cc_num', 'first', 'last', 'street', 'city', 'state', 'zip', 'lat', 'long',\n",
    "                   'city_pop', 'job', 'trans_num', 'unix_time', 'is_fraud', 'merchant', 'merch_lat', 'merch_long']\n",
    "\n",
    "final_df = final_df.drop(columns_to_drop, axis=1)"
   ]
  },
  {
   "cell_type": "code",
   "execution_count": 30,
   "id": "0fff0780",
   "metadata": {},
   "outputs": [
    {
     "name": "stdout",
     "output_type": "stream",
     "text": [
      "<class 'pandas.core.frame.DataFrame'>\n",
      "Int64Index: 4260904 entries, 0 to 4260903\n",
      "Data columns (total 11 columns):\n",
      " #   Column                        Dtype  \n",
      "---  ------                        -----  \n",
      " 0   gender                        object \n",
      " 1   acct_num                      int64  \n",
      " 2   category                      object \n",
      " 3   amt                           float64\n",
      " 4   total_spending                float64\n",
      " 5   avg_spending_per_transaction  float64\n",
      " 6   transaction_count             int64  \n",
      " 7   age                           float64\n",
      " 8   age_group                     object \n",
      " 9   spending_increase             float64\n",
      " 10  target                        int32  \n",
      "dtypes: float64(5), int32(1), int64(2), object(3)\n",
      "memory usage: 373.8+ MB\n"
     ]
    }
   ],
   "source": [
    "final_df.info()"
   ]
  },
  {
   "cell_type": "markdown",
   "id": "4bfc14a3",
   "metadata": {},
   "source": [
    "### Preparing the dataset for training"
   ]
  },
  {
   "cell_type": "code",
   "execution_count": 31,
   "id": "1dc3c081",
   "metadata": {},
   "outputs": [
    {
     "name": "stdout",
     "output_type": "stream",
     "text": [
      "       acct_num    amt  total_spending  avg_spending_per_transaction  \\\n",
      "0  888022315787  69.12        206986.2                     63.144051   \n",
      "1  888022315787  68.11        206986.2                     63.144051   \n",
      "2  888022315787  40.35        206986.2                     63.144051   \n",
      "3  888022315787  96.22        206986.2                     63.144051   \n",
      "4  888022315787  71.89        206986.2                     63.144051   \n",
      "\n",
      "   transaction_count   age  spending_increase  target  gender_F  gender_M  \\\n",
      "0               3278  63.0             -27.10       0         0         1   \n",
      "1               3278  63.0              -3.78       0         0         1   \n",
      "2               3278  63.0             -33.23       0         0         1   \n",
      "3               3278  63.0              38.53       0         0         1   \n",
      "4               3278  63.0              -2.38       0         0         1   \n",
      "\n",
      "   ...  category_personal_care  category_shopping_net  category_shopping_pos  \\\n",
      "0  ...                       0                      0                      0   \n",
      "1  ...                       0                      0                      0   \n",
      "2  ...                       0                      0                      0   \n",
      "3  ...                       0                      0                      0   \n",
      "4  ...                       0                      0                      0   \n",
      "\n",
      "   category_travel  age_group_18-29  age_group_30-39  age_group_40-49  \\\n",
      "0                0                0                0                0   \n",
      "1                0                0                0                0   \n",
      "2                0                0                0                0   \n",
      "3                0                0                0                0   \n",
      "4                0                0                0                0   \n",
      "\n",
      "   age_group_50-59  age_group_60+  age_group_Under 18  \n",
      "0                0              1                   0  \n",
      "1                0              1                   0  \n",
      "2                0              1                   0  \n",
      "3                0              1                   0  \n",
      "4                0              1                   0  \n",
      "\n",
      "[5 rows x 30 columns]\n"
     ]
    }
   ],
   "source": [
    "# Convert categorical variables\n",
    "df_encoded = pd.get_dummies(final_df, columns=['gender', 'category', 'age_group'])\n",
    "# Verify the updated DataFrame\n",
    "print(df_encoded.head())"
   ]
  },
  {
   "cell_type": "code",
   "execution_count": 32,
   "id": "e3778167",
   "metadata": {},
   "outputs": [
    {
     "name": "stdout",
     "output_type": "stream",
     "text": [
      "acct_num                           0\n",
      "amt                                0\n",
      "total_spending                     0\n",
      "avg_spending_per_transaction       0\n",
      "transaction_count                  0\n",
      "age                                0\n",
      "spending_increase               2949\n",
      "target                             0\n",
      "gender_F                           0\n",
      "gender_M                           0\n",
      "category_entertainment             0\n",
      "category_food_dining               0\n",
      "category_gas_transport             0\n",
      "category_grocery_net               0\n",
      "category_grocery_pos               0\n",
      "category_health_fitness            0\n",
      "category_home                      0\n",
      "category_kids_pets                 0\n",
      "category_misc_net                  0\n",
      "category_misc_pos                  0\n",
      "category_personal_care             0\n",
      "category_shopping_net              0\n",
      "category_shopping_pos              0\n",
      "category_travel                    0\n",
      "age_group_18-29                    0\n",
      "age_group_30-39                    0\n",
      "age_group_40-49                    0\n",
      "age_group_50-59                    0\n",
      "age_group_60+                      0\n",
      "age_group_Under 18                 0\n",
      "dtype: int64\n"
     ]
    }
   ],
   "source": [
    "print(df_encoded.isnull().sum())"
   ]
  },
  {
   "cell_type": "code",
   "execution_count": 33,
   "id": "56e4c032",
   "metadata": {},
   "outputs": [],
   "source": [
    "df_encoded = df_encoded.dropna()  # Remove rows with missing values, or you can impute missing values if appropriate"
   ]
  },
  {
   "cell_type": "markdown",
   "id": "d34e3372",
   "metadata": {},
   "source": [
    "## Modelling\n",
    "### Importing libraries"
   ]
  },
  {
   "cell_type": "code",
   "execution_count": 34,
   "id": "ac6c338c",
   "metadata": {},
   "outputs": [],
   "source": [
    "from sklearn.model_selection import train_test_split\n",
    "from sklearn.linear_model import LogisticRegression\n",
    "from sklearn.metrics import accuracy_score, precision_score, recall_score, f1_score, roc_auc_score"
   ]
  },
  {
   "cell_type": "markdown",
   "id": "289f889c",
   "metadata": {},
   "source": [
    "### Splitting the dataset"
   ]
  },
  {
   "cell_type": "code",
   "execution_count": 35,
   "id": "7548d22c",
   "metadata": {},
   "outputs": [],
   "source": [
    "# Split the dataset into training and testing sets\n",
    "X = df_encoded.drop(['target'], axis=1)\n",
    "y = df_encoded['target']\n",
    "X_train, X_test, y_train, y_test = train_test_split(X, y, test_size=0.2, random_state=42)"
   ]
  },
  {
   "cell_type": "markdown",
   "id": "34884591",
   "metadata": {},
   "source": [
    "### Training Logistic Regression"
   ]
  },
  {
   "cell_type": "code",
   "execution_count": 36,
   "id": "0d88c9ef",
   "metadata": {},
   "outputs": [
    {
     "data": {
      "text/html": [
       "<style>#sk-container-id-1 {color: black;background-color: white;}#sk-container-id-1 pre{padding: 0;}#sk-container-id-1 div.sk-toggleable {background-color: white;}#sk-container-id-1 label.sk-toggleable__label {cursor: pointer;display: block;width: 100%;margin-bottom: 0;padding: 0.3em;box-sizing: border-box;text-align: center;}#sk-container-id-1 label.sk-toggleable__label-arrow:before {content: \"▸\";float: left;margin-right: 0.25em;color: #696969;}#sk-container-id-1 label.sk-toggleable__label-arrow:hover:before {color: black;}#sk-container-id-1 div.sk-estimator:hover label.sk-toggleable__label-arrow:before {color: black;}#sk-container-id-1 div.sk-toggleable__content {max-height: 0;max-width: 0;overflow: hidden;text-align: left;background-color: #f0f8ff;}#sk-container-id-1 div.sk-toggleable__content pre {margin: 0.2em;color: black;border-radius: 0.25em;background-color: #f0f8ff;}#sk-container-id-1 input.sk-toggleable__control:checked~div.sk-toggleable__content {max-height: 200px;max-width: 100%;overflow: auto;}#sk-container-id-1 input.sk-toggleable__control:checked~label.sk-toggleable__label-arrow:before {content: \"▾\";}#sk-container-id-1 div.sk-estimator input.sk-toggleable__control:checked~label.sk-toggleable__label {background-color: #d4ebff;}#sk-container-id-1 div.sk-label input.sk-toggleable__control:checked~label.sk-toggleable__label {background-color: #d4ebff;}#sk-container-id-1 input.sk-hidden--visually {border: 0;clip: rect(1px 1px 1px 1px);clip: rect(1px, 1px, 1px, 1px);height: 1px;margin: -1px;overflow: hidden;padding: 0;position: absolute;width: 1px;}#sk-container-id-1 div.sk-estimator {font-family: monospace;background-color: #f0f8ff;border: 1px dotted black;border-radius: 0.25em;box-sizing: border-box;margin-bottom: 0.5em;}#sk-container-id-1 div.sk-estimator:hover {background-color: #d4ebff;}#sk-container-id-1 div.sk-parallel-item::after {content: \"\";width: 100%;border-bottom: 1px solid gray;flex-grow: 1;}#sk-container-id-1 div.sk-label:hover label.sk-toggleable__label {background-color: #d4ebff;}#sk-container-id-1 div.sk-serial::before {content: \"\";position: absolute;border-left: 1px solid gray;box-sizing: border-box;top: 0;bottom: 0;left: 50%;z-index: 0;}#sk-container-id-1 div.sk-serial {display: flex;flex-direction: column;align-items: center;background-color: white;padding-right: 0.2em;padding-left: 0.2em;position: relative;}#sk-container-id-1 div.sk-item {position: relative;z-index: 1;}#sk-container-id-1 div.sk-parallel {display: flex;align-items: stretch;justify-content: center;background-color: white;position: relative;}#sk-container-id-1 div.sk-item::before, #sk-container-id-1 div.sk-parallel-item::before {content: \"\";position: absolute;border-left: 1px solid gray;box-sizing: border-box;top: 0;bottom: 0;left: 50%;z-index: -1;}#sk-container-id-1 div.sk-parallel-item {display: flex;flex-direction: column;z-index: 1;position: relative;background-color: white;}#sk-container-id-1 div.sk-parallel-item:first-child::after {align-self: flex-end;width: 50%;}#sk-container-id-1 div.sk-parallel-item:last-child::after {align-self: flex-start;width: 50%;}#sk-container-id-1 div.sk-parallel-item:only-child::after {width: 0;}#sk-container-id-1 div.sk-dashed-wrapped {border: 1px dashed gray;margin: 0 0.4em 0.5em 0.4em;box-sizing: border-box;padding-bottom: 0.4em;background-color: white;}#sk-container-id-1 div.sk-label label {font-family: monospace;font-weight: bold;display: inline-block;line-height: 1.2em;}#sk-container-id-1 div.sk-label-container {text-align: center;}#sk-container-id-1 div.sk-container {/* jupyter's `normalize.less` sets `[hidden] { display: none; }` but bootstrap.min.css set `[hidden] { display: none !important; }` so we also need the `!important` here to be able to override the default hidden behavior on the sphinx rendered scikit-learn.org. See: https://github.com/scikit-learn/scikit-learn/issues/21755 */display: inline-block !important;position: relative;}#sk-container-id-1 div.sk-text-repr-fallback {display: none;}</style><div id=\"sk-container-id-1\" class=\"sk-top-container\"><div class=\"sk-text-repr-fallback\"><pre>LogisticRegression()</pre><b>In a Jupyter environment, please rerun this cell to show the HTML representation or trust the notebook. <br />On GitHub, the HTML representation is unable to render, please try loading this page with nbviewer.org.</b></div><div class=\"sk-container\" hidden><div class=\"sk-item\"><div class=\"sk-estimator sk-toggleable\"><input class=\"sk-toggleable__control sk-hidden--visually\" id=\"sk-estimator-id-1\" type=\"checkbox\" checked><label for=\"sk-estimator-id-1\" class=\"sk-toggleable__label sk-toggleable__label-arrow\">LogisticRegression</label><div class=\"sk-toggleable__content\"><pre>LogisticRegression()</pre></div></div></div></div></div>"
      ],
      "text/plain": [
       "LogisticRegression()"
      ]
     },
     "execution_count": 36,
     "metadata": {},
     "output_type": "execute_result"
    }
   ],
   "source": [
    "# Initialize and train the logistic regression model\n",
    "model = LogisticRegression()\n",
    "model.fit(X_train, y_train)\n"
   ]
  },
  {
   "cell_type": "markdown",
   "id": "581c746c",
   "metadata": {},
   "source": [
    "### Predicting"
   ]
  },
  {
   "cell_type": "code",
   "execution_count": 37,
   "id": "a005f958",
   "metadata": {},
   "outputs": [],
   "source": [
    "# Make predictions on the testing set\n",
    "y_pred = model.predict(X_test)"
   ]
  },
  {
   "cell_type": "markdown",
   "id": "35b29618",
   "metadata": {},
   "source": [
    "### Evaluation"
   ]
  },
  {
   "cell_type": "code",
   "execution_count": 38,
   "id": "9064e6ea",
   "metadata": {},
   "outputs": [],
   "source": [
    "# Evaluate the model's performance\n",
    "accuracy = accuracy_score(y_test, y_pred)\n",
    "precision = precision_score(y_test, y_pred)\n",
    "recall = recall_score(y_test, y_pred)\n",
    "f1 = f1_score(y_test, y_pred)\n",
    "roc_auc = roc_auc_score(y_test, y_pred)"
   ]
  },
  {
   "cell_type": "code",
   "execution_count": 39,
   "id": "7f12e588",
   "metadata": {},
   "outputs": [
    {
     "name": "stdout",
     "output_type": "stream",
     "text": [
      "Accuracy: 0.9973449695922103\n",
      "Precision: 0.0\n",
      "Recall: 0.0\n",
      "F1-score: 0.0\n",
      "ROC-AUC: 0.5\n"
     ]
    }
   ],
   "source": [
    "# Print the evaluation metrics\n",
    "print('Accuracy:', accuracy)\n",
    "print('Precision:', precision)\n",
    "print('Recall:', recall)\n",
    "print('F1-score:', f1)\n",
    "print('ROC-AUC:', roc_auc)"
   ]
  },
  {
   "cell_type": "markdown",
   "id": "bccb897b",
   "metadata": {},
   "source": [
    "## Feature Importance\n",
    "### Importing libraries"
   ]
  },
  {
   "cell_type": "code",
   "execution_count": 40,
   "id": "d2450edd",
   "metadata": {},
   "outputs": [],
   "source": [
    "from sklearn.ensemble import RandomForestClassifier\n",
    "# Create the model\n",
    "model = RandomForestClassifier()"
   ]
  },
  {
   "cell_type": "markdown",
   "id": "b09343b0",
   "metadata": {},
   "source": [
    "### Modelling using Random Forest Classifier"
   ]
  },
  {
   "cell_type": "code",
   "execution_count": 41,
   "id": "87078709",
   "metadata": {},
   "outputs": [
    {
     "data": {
      "text/html": [
       "<style>#sk-container-id-2 {color: black;background-color: white;}#sk-container-id-2 pre{padding: 0;}#sk-container-id-2 div.sk-toggleable {background-color: white;}#sk-container-id-2 label.sk-toggleable__label {cursor: pointer;display: block;width: 100%;margin-bottom: 0;padding: 0.3em;box-sizing: border-box;text-align: center;}#sk-container-id-2 label.sk-toggleable__label-arrow:before {content: \"▸\";float: left;margin-right: 0.25em;color: #696969;}#sk-container-id-2 label.sk-toggleable__label-arrow:hover:before {color: black;}#sk-container-id-2 div.sk-estimator:hover label.sk-toggleable__label-arrow:before {color: black;}#sk-container-id-2 div.sk-toggleable__content {max-height: 0;max-width: 0;overflow: hidden;text-align: left;background-color: #f0f8ff;}#sk-container-id-2 div.sk-toggleable__content pre {margin: 0.2em;color: black;border-radius: 0.25em;background-color: #f0f8ff;}#sk-container-id-2 input.sk-toggleable__control:checked~div.sk-toggleable__content {max-height: 200px;max-width: 100%;overflow: auto;}#sk-container-id-2 input.sk-toggleable__control:checked~label.sk-toggleable__label-arrow:before {content: \"▾\";}#sk-container-id-2 div.sk-estimator input.sk-toggleable__control:checked~label.sk-toggleable__label {background-color: #d4ebff;}#sk-container-id-2 div.sk-label input.sk-toggleable__control:checked~label.sk-toggleable__label {background-color: #d4ebff;}#sk-container-id-2 input.sk-hidden--visually {border: 0;clip: rect(1px 1px 1px 1px);clip: rect(1px, 1px, 1px, 1px);height: 1px;margin: -1px;overflow: hidden;padding: 0;position: absolute;width: 1px;}#sk-container-id-2 div.sk-estimator {font-family: monospace;background-color: #f0f8ff;border: 1px dotted black;border-radius: 0.25em;box-sizing: border-box;margin-bottom: 0.5em;}#sk-container-id-2 div.sk-estimator:hover {background-color: #d4ebff;}#sk-container-id-2 div.sk-parallel-item::after {content: \"\";width: 100%;border-bottom: 1px solid gray;flex-grow: 1;}#sk-container-id-2 div.sk-label:hover label.sk-toggleable__label {background-color: #d4ebff;}#sk-container-id-2 div.sk-serial::before {content: \"\";position: absolute;border-left: 1px solid gray;box-sizing: border-box;top: 0;bottom: 0;left: 50%;z-index: 0;}#sk-container-id-2 div.sk-serial {display: flex;flex-direction: column;align-items: center;background-color: white;padding-right: 0.2em;padding-left: 0.2em;position: relative;}#sk-container-id-2 div.sk-item {position: relative;z-index: 1;}#sk-container-id-2 div.sk-parallel {display: flex;align-items: stretch;justify-content: center;background-color: white;position: relative;}#sk-container-id-2 div.sk-item::before, #sk-container-id-2 div.sk-parallel-item::before {content: \"\";position: absolute;border-left: 1px solid gray;box-sizing: border-box;top: 0;bottom: 0;left: 50%;z-index: -1;}#sk-container-id-2 div.sk-parallel-item {display: flex;flex-direction: column;z-index: 1;position: relative;background-color: white;}#sk-container-id-2 div.sk-parallel-item:first-child::after {align-self: flex-end;width: 50%;}#sk-container-id-2 div.sk-parallel-item:last-child::after {align-self: flex-start;width: 50%;}#sk-container-id-2 div.sk-parallel-item:only-child::after {width: 0;}#sk-container-id-2 div.sk-dashed-wrapped {border: 1px dashed gray;margin: 0 0.4em 0.5em 0.4em;box-sizing: border-box;padding-bottom: 0.4em;background-color: white;}#sk-container-id-2 div.sk-label label {font-family: monospace;font-weight: bold;display: inline-block;line-height: 1.2em;}#sk-container-id-2 div.sk-label-container {text-align: center;}#sk-container-id-2 div.sk-container {/* jupyter's `normalize.less` sets `[hidden] { display: none; }` but bootstrap.min.css set `[hidden] { display: none !important; }` so we also need the `!important` here to be able to override the default hidden behavior on the sphinx rendered scikit-learn.org. See: https://github.com/scikit-learn/scikit-learn/issues/21755 */display: inline-block !important;position: relative;}#sk-container-id-2 div.sk-text-repr-fallback {display: none;}</style><div id=\"sk-container-id-2\" class=\"sk-top-container\"><div class=\"sk-text-repr-fallback\"><pre>RandomForestClassifier()</pre><b>In a Jupyter environment, please rerun this cell to show the HTML representation or trust the notebook. <br />On GitHub, the HTML representation is unable to render, please try loading this page with nbviewer.org.</b></div><div class=\"sk-container\" hidden><div class=\"sk-item\"><div class=\"sk-estimator sk-toggleable\"><input class=\"sk-toggleable__control sk-hidden--visually\" id=\"sk-estimator-id-2\" type=\"checkbox\" checked><label for=\"sk-estimator-id-2\" class=\"sk-toggleable__label sk-toggleable__label-arrow\">RandomForestClassifier</label><div class=\"sk-toggleable__content\"><pre>RandomForestClassifier()</pre></div></div></div></div></div>"
      ],
      "text/plain": [
       "RandomForestClassifier()"
      ]
     },
     "execution_count": 41,
     "metadata": {},
     "output_type": "execute_result"
    }
   ],
   "source": [
    "# Fit the model\n",
    "model.fit(X_train, y_train)"
   ]
  },
  {
   "cell_type": "code",
   "execution_count": 42,
   "id": "57ac0f51",
   "metadata": {},
   "outputs": [],
   "source": [
    "# Get feature importances\n",
    "feature_importances = model.feature_importances_"
   ]
  },
  {
   "cell_type": "code",
   "execution_count": 43,
   "id": "da941c9c",
   "metadata": {},
   "outputs": [],
   "source": [
    "# Create a DataFrame with feature names and importances\n",
    "feature_importance_df = pd.DataFrame({'Feature': X_train.columns, 'Importance': feature_importances})"
   ]
  },
  {
   "cell_type": "markdown",
   "id": "f6e92495",
   "metadata": {},
   "source": [
    "#### Important features list"
   ]
  },
  {
   "cell_type": "code",
   "execution_count": 44,
   "id": "11c24235",
   "metadata": {},
   "outputs": [
    {
     "name": "stdout",
     "output_type": "stream",
     "text": [
      "                         Feature  Importance\n",
      "6              spending_increase    0.586534\n",
      "1                            amt    0.408694\n",
      "3   avg_spending_per_transaction    0.000864\n",
      "2                 total_spending    0.000712\n",
      "4              transaction_count    0.000700\n",
      "0                       acct_num    0.000635\n",
      "5                            age    0.000531\n",
      "20         category_shopping_net    0.000287\n",
      "17             category_misc_net    0.000100\n",
      "7                       gender_F    0.000086\n",
      "21         category_shopping_pos    0.000085\n",
      "8                       gender_M    0.000061\n",
      "9         category_entertainment    0.000060\n",
      "15                 category_home    0.000058\n",
      "26               age_group_50-59    0.000054\n",
      "18             category_misc_pos    0.000053\n",
      "10          category_food_dining    0.000051\n",
      "13          category_grocery_pos    0.000048\n",
      "12          category_grocery_net    0.000045\n",
      "11        category_gas_transport    0.000045\n",
      "16            category_kids_pets    0.000043\n",
      "19        category_personal_care    0.000040\n",
      "23               age_group_18-29    0.000039\n",
      "14       category_health_fitness    0.000039\n",
      "27                 age_group_60+    0.000038\n",
      "25               age_group_40-49    0.000037\n",
      "24               age_group_30-39    0.000033\n",
      "22               category_travel    0.000026\n",
      "28            age_group_Under 18    0.000002\n"
     ]
    }
   ],
   "source": [
    "# Sort the DataFrame by importance in descending order\n",
    "feature_importance_df = feature_importance_df.sort_values(by='Importance', ascending=False)\n",
    "\n",
    "# Print the feature importance\n",
    "print(feature_importance_df)"
   ]
  },
  {
   "cell_type": "markdown",
   "id": "0aca1088",
   "metadata": {},
   "source": [
    "###### The \"spending_increase\" and \"amt\" characteristics had the greatest importance ratings, showing their strong influence on forecasting whether customers would have a significant rise in spending, according to the analysis of feature importance. Although to a lesser extent, other characteristics including transaction-related statistics, gender, age, and transaction categories also influence the forecasts."
   ]
  },
  {
   "cell_type": "code",
   "execution_count": 45,
   "id": "17f1471e",
   "metadata": {},
   "outputs": [],
   "source": [
    "# Sort the DataFrame by importance in descending order\n",
    "feature_importance_df = feature_importance_df.sort_values(by='Importance', ascending=False)"
   ]
  },
  {
   "cell_type": "code",
   "execution_count": 46,
   "id": "fc2bb781",
   "metadata": {},
   "outputs": [],
   "source": [
    "# Set the threshold or choose top N features\n",
    "top_n = 10  # Replace with the desired number of top features"
   ]
  },
  {
   "cell_type": "code",
   "execution_count": 47,
   "id": "dcdb407f",
   "metadata": {},
   "outputs": [],
   "source": [
    "# Select the top N features\n",
    "selected_features = feature_importance_df['Feature'][:top_n].tolist()"
   ]
  },
  {
   "cell_type": "code",
   "execution_count": 48,
   "id": "69d1f401",
   "metadata": {},
   "outputs": [
    {
     "name": "stdout",
     "output_type": "stream",
     "text": [
      "Selected Features: ['spending_increase', 'amt', 'avg_spending_per_transaction', 'total_spending', 'transaction_count', 'acct_num', 'age', 'category_shopping_net', 'category_misc_net', 'gender_F']\n"
     ]
    }
   ],
   "source": [
    "# Subset the original dataframe with the selected features\n",
    "df_selected = df_encoded[selected_features + ['target']]\n",
    "\n",
    "# Print the selected features\n",
    "print('Selected Features:', selected_features)"
   ]
  },
  {
   "cell_type": "markdown",
   "id": "d99e84d8",
   "metadata": {},
   "source": [
    "#### Further feature Enginering"
   ]
  },
  {
   "cell_type": "code",
   "execution_count": 49,
   "id": "5cdbd73f",
   "metadata": {},
   "outputs": [],
   "source": [
    "# Derive new features\n",
    "df['month'] = pd.to_datetime(df['unix_time']).dt.month\n",
    "df['day_of_week'] = pd.to_datetime(df['unix_time']).dt.dayofweek"
   ]
  },
  {
   "cell_type": "code",
   "execution_count": null,
   "id": "55501dd7",
   "metadata": {},
   "outputs": [],
   "source": [
    "df['amt'] = pd.to_numeric(df['amt'])\n",
    "df['gender'] = df['gender'].map({'Male': 1, 'Female': 0})"
   ]
  },
  {
   "cell_type": "code",
   "execution_count": 72,
   "id": "8e670ab6",
   "metadata": {},
   "outputs": [],
   "source": [
    "# Create interaction terms between features\n",
    "df['amt_gender_interaction'] = df['amt'] * df['gender']"
   ]
  },
  {
   "cell_type": "code",
   "execution_count": 51,
   "id": "b51e0a49",
   "metadata": {},
   "outputs": [],
   "source": [
    "# Apply mathematical transformations to numerical features\n",
    "df['amt_squared'] = df['amt'] ** 2\n",
    "df['log_amt'] = np.log1p(df['amt'])"
   ]
  },
  {
   "cell_type": "markdown",
   "id": "8b95d89f",
   "metadata": {},
   "source": [
    "#### Normalizing features"
   ]
  },
  {
   "cell_type": "code",
   "execution_count": 52,
   "id": "67cb4225",
   "metadata": {},
   "outputs": [],
   "source": [
    "# Normalize numerical features\n",
    "numerical_cols = ['amt', 'amt_squared', 'log_amt']  # Add other numerical columns as needed\n",
    "scaler = StandardScaler()\n",
    "df[numerical_cols] = scaler.fit_transform(df[numerical_cols])"
   ]
  },
  {
   "cell_type": "code",
   "execution_count": 53,
   "id": "d1bea61b",
   "metadata": {},
   "outputs": [],
   "source": [
    "# Update the selected features with the new and transformed features\n",
    "selected_features = ['month', 'day_of_week', 'amt', 'amt_squared', 'log_amt', 'amt_gender_interaction']  # Update with the desired features"
   ]
  },
  {
   "cell_type": "code",
   "execution_count": 54,
   "id": "59ad3b5d",
   "metadata": {},
   "outputs": [],
   "source": [
    "# Subset the dataframe with the updated selected features\n",
    "df_selected = df[selected_features + ['target']]"
   ]
  },
  {
   "cell_type": "code",
   "execution_count": 55,
   "id": "2e363ba3",
   "metadata": {},
   "outputs": [
    {
     "name": "stdout",
     "output_type": "stream",
     "text": [
      "Updated Selected Features: ['month', 'day_of_week', 'amt', 'amt_squared', 'log_amt', 'amt_gender_interaction']\n"
     ]
    }
   ],
   "source": [
    "# Print the updated selected features\n",
    "print('Updated Selected Features:', selected_features)"
   ]
  },
  {
   "cell_type": "markdown",
   "id": "d5f49b2c",
   "metadata": {},
   "source": [
    "#### Sampling Imbalanced data"
   ]
  },
  {
   "cell_type": "code",
   "execution_count": 56,
   "id": "db491064",
   "metadata": {},
   "outputs": [
    {
     "name": "stdout",
     "output_type": "stream",
     "text": [
      "Class Distribution:\n",
      "0    4249581\n",
      "1      11323\n",
      "Name: target, dtype: int64\n"
     ]
    }
   ],
   "source": [
    "from imblearn.over_sampling import SMOTE\n",
    "# Check class distribution\n",
    "class_distribution = df['target'].value_counts()\n",
    "print('Class Distribution:')\n",
    "print(class_distribution)"
   ]
  },
  {
   "cell_type": "code",
   "execution_count": 57,
   "id": "6d35379e",
   "metadata": {},
   "outputs": [
    {
     "name": "stdout",
     "output_type": "stream",
     "text": [
      "Class Distribution after Oversampling:\n",
      "0    4246632\n",
      "1    4246632\n",
      "Name: target, dtype: int64\n"
     ]
    }
   ],
   "source": [
    "# Check if there is a significant class imbalance\n",
    "if class_distribution[0] / class_distribution[1] > 5:\n",
    "    # Perform oversampling using SMOTE\n",
    "    smote = SMOTE()\n",
    "    X = df_encoded.drop('target', axis=1)\n",
    "    y = df_encoded['target']\n",
    "    X_oversampled, y_oversampled = smote.fit_resample(X, y)\n",
    "\n",
    "    # Create a new DataFrame with the oversampled data\n",
    "    df_oversampled = pd.concat([X_oversampled, y_oversampled], axis=1)\n",
    "\n",
    "    # Check the class distribution after oversampling\n",
    "    class_distribution_oversampled = df_oversampled['target'].value_counts()\n",
    "    print('Class Distribution after Oversampling:')\n",
    "    print(class_distribution_oversampled)\n",
    "else:\n",
    "    print('Class distribution is balanced. No further action needed.')"
   ]
  },
  {
   "cell_type": "markdown",
   "id": "3b9980d0",
   "metadata": {},
   "source": [
    "### Importing libraries"
   ]
  },
  {
   "cell_type": "code",
   "execution_count": 58,
   "id": "d8151bb3",
   "metadata": {},
   "outputs": [],
   "source": [
    "from sklearn.model_selection import train_test_split\n",
    "from sklearn.metrics import classification_report\n",
    "import xgboost as xgb\n",
    "import lightgbm as lgb\n",
    "from sklearn.svm import SVC\n",
    "from sklearn.neural_network import MLPClassifier\n",
    "from sklearn.preprocessing import StandardScaler\n"
   ]
  },
  {
   "cell_type": "markdown",
   "id": "c4ad4a37",
   "metadata": {},
   "source": [
    "#### Training Models for comparison"
   ]
  },
  {
   "cell_type": "code",
   "execution_count": 59,
   "id": "ba815e95",
   "metadata": {},
   "outputs": [],
   "source": [
    "# Split the data into training and testing sets\n",
    "X_train, X_test, y_train, y_test = train_test_split(X_oversampled, y_oversampled, test_size=0.2, random_state=42)"
   ]
  },
  {
   "cell_type": "code",
   "execution_count": 60,
   "id": "6e15c04a",
   "metadata": {},
   "outputs": [],
   "source": [
    "# Create an instance of each model\n",
    "logreg_model = LogisticRegression()\n",
    "rf_model = RandomForestClassifier()\n",
    "xgb_model = xgb.XGBClassifier()\n",
    "lgb_model = lgb.LGBMClassifier()\n",
    "svm_model = SVC()\n",
    "nn_model = MLPClassifier()"
   ]
  },
  {
   "cell_type": "code",
   "execution_count": 61,
   "id": "abeabc09",
   "metadata": {},
   "outputs": [
    {
     "name": "stdout",
     "output_type": "stream",
     "text": [
      "Logistic Regression:\n",
      "              precision    recall  f1-score   support\n",
      "\n",
      "           0       0.50      1.00      0.67    849551\n",
      "           1       0.00      0.00      0.00    849102\n",
      "\n",
      "    accuracy                           0.50   1698653\n",
      "   macro avg       0.25      0.50      0.33   1698653\n",
      "weighted avg       0.25      0.50      0.33   1698653\n",
      "\n"
     ]
    }
   ],
   "source": [
    "# Fit the models on the training data\n",
    "logreg_model.fit(X_train, y_train)\n",
    "logreg_preds = logreg_model.predict(X_test)\n",
    "# Evaluate the performance of each model\n",
    "print(\"Logistic Regression:\")\n",
    "print(classification_report(y_test, logreg_preds))\n"
   ]
  },
  {
   "cell_type": "code",
   "execution_count": 62,
   "id": "4ac429a3",
   "metadata": {},
   "outputs": [
    {
     "name": "stdout",
     "output_type": "stream",
     "text": [
      "XGBoost:\n",
      "              precision    recall  f1-score   support\n",
      "\n",
      "           0       1.00      1.00      1.00    849551\n",
      "           1       1.00      1.00      1.00    849102\n",
      "\n",
      "    accuracy                           1.00   1698653\n",
      "   macro avg       1.00      1.00      1.00   1698653\n",
      "weighted avg       1.00      1.00      1.00   1698653\n",
      "\n"
     ]
    }
   ],
   "source": [
    "xgb_model.fit(X_train, y_train)\n",
    "xgb_preds = xgb_model.predict(X_test)\n",
    "print(\"XGBoost:\")\n",
    "print(classification_report(y_test, xgb_preds))"
   ]
  },
  {
   "cell_type": "code",
   "execution_count": 63,
   "id": "90cfef0c",
   "metadata": {},
   "outputs": [
    {
     "name": "stdout",
     "output_type": "stream",
     "text": [
      "Random Forest:\n",
      "              precision    recall  f1-score   support\n",
      "\n",
      "           0       1.00      1.00      1.00    849551\n",
      "           1       1.00      1.00      1.00    849102\n",
      "\n",
      "    accuracy                           1.00   1698653\n",
      "   macro avg       1.00      1.00      1.00   1698653\n",
      "weighted avg       1.00      1.00      1.00   1698653\n",
      "\n"
     ]
    }
   ],
   "source": [
    "rf_model.fit(X_train, y_train)\n",
    "rf_preds = rf_model.predict(X_test)\n",
    "print(\"Random Forest:\")\n",
    "print(classification_report(y_test, rf_preds))"
   ]
  },
  {
   "cell_type": "code",
   "execution_count": 64,
   "id": "166fdc37",
   "metadata": {},
   "outputs": [
    {
     "name": "stdout",
     "output_type": "stream",
     "text": [
      "LightGBM:\n",
      "              precision    recall  f1-score   support\n",
      "\n",
      "           0       1.00      1.00      1.00    849551\n",
      "           1       1.00      1.00      1.00    849102\n",
      "\n",
      "    accuracy                           1.00   1698653\n",
      "   macro avg       1.00      1.00      1.00   1698653\n",
      "weighted avg       1.00      1.00      1.00   1698653\n",
      "\n"
     ]
    }
   ],
   "source": [
    "lgb_model.fit(X_train, y_train)\n",
    "lgb_preds = lgb_model.predict(X_test)\n",
    "print(\"LightGBM:\")\n",
    "print(classification_report(y_test, lgb_preds))"
   ]
  },
  {
   "cell_type": "code",
   "execution_count": 66,
   "id": "94316af4",
   "metadata": {},
   "outputs": [
    {
     "name": "stdout",
     "output_type": "stream",
     "text": [
      "Logistic Regression:\n",
      "              precision    recall  f1-score   support\n",
      "\n",
      "           0       0.50      1.00      0.67    849551\n",
      "           1       0.00      0.00      0.00    849102\n",
      "\n",
      "    accuracy                           0.50   1698653\n",
      "   macro avg       0.25      0.50      0.33   1698653\n",
      "weighted avg       0.25      0.50      0.33   1698653\n",
      "\n",
      "Random Forest:\n",
      "              precision    recall  f1-score   support\n",
      "\n",
      "           0       1.00      1.00      1.00    849551\n",
      "           1       1.00      1.00      1.00    849102\n",
      "\n",
      "    accuracy                           1.00   1698653\n",
      "   macro avg       1.00      1.00      1.00   1698653\n",
      "weighted avg       1.00      1.00      1.00   1698653\n",
      "\n",
      "XGBoost:\n",
      "              precision    recall  f1-score   support\n",
      "\n",
      "           0       1.00      1.00      1.00    849551\n",
      "           1       1.00      1.00      1.00    849102\n",
      "\n",
      "    accuracy                           1.00   1698653\n",
      "   macro avg       1.00      1.00      1.00   1698653\n",
      "weighted avg       1.00      1.00      1.00   1698653\n",
      "\n",
      "LightGBM:\n"
     ]
    }
   ],
   "source": [
    "print(\"Logistic Regression:\")\n",
    "print(classification_report(y_test, logreg_preds))\n",
    "print(\"Random Forest:\")\n",
    "print(classification_report(y_test, rf_preds))\n",
    "print(\"XGBoost:\")\n",
    "print(classification_report(y_test, xgb_preds))\n",
    "print(\"LightGBM:\")"
   ]
  },
  {
   "cell_type": "markdown",
   "id": "282b0f6d",
   "metadata": {},
   "source": [
    "### Data Insights"
   ]
  },
  {
   "cell_type": "markdown",
   "id": "13d3ae0d",
   "metadata": {},
   "source": [
    "###### Most of our customers lie in the age bracket of 20-50 age group"
   ]
  },
  {
   "cell_type": "code",
   "execution_count": 97,
   "id": "21c05a15",
   "metadata": {},
   "outputs": [
    {
     "data": {
      "image/png": "[encoded data removed]",
      "text/plain": [
       "<Figure size 640x480 with 1 Axes>"
      ]
     },
     "metadata": {},
     "output_type": "display_data"
    }
   ],
   "source": [
    "# Age Distribution\n",
    "sns.histplot(df['age'])\n",
    "plt.title('Age Distribution')\n",
    "plt.xlabel('Age')\n",
    "plt.show()"
   ]
  },
  {
   "cell_type": "markdown",
   "id": "2ae96f83",
   "metadata": {},
   "source": [
    "###### Customers spend most on groceries followed closely by shopping and the least on gas for transport"
   ]
  },
  {
   "cell_type": "code",
   "execution_count": 98,
   "id": "e767f2e3",
   "metadata": {},
   "outputs": [
    {
     "data": {
      "image/png": "[encoded data removed]",
      "text/plain": [
       "<Figure size 640x480 with 1 Axes>"
      ]
     },
     "metadata": {},
     "output_type": "display_data"
    }
   ],
   "source": [
    "\n",
    "# Total Spending by Category\n",
    "sns.barplot(x='category', y='total_spending', data=df)\n",
    "plt.title('Total Spending by Category')\n",
    "plt.xlabel('Category')\n",
    "plt.ylabel('Total Spending')\n",
    "plt.xticks(rotation=90)\n",
    "plt.show()"
   ]
  },
  {
   "cell_type": "markdown",
   "id": "5bb686dc",
   "metadata": {},
   "source": [
    "###### The dataset contains the highest category of people spending in food and dining followed closely  by transport andleast number of customers spedning in fitness and travel"
   ]
  },
  {
   "cell_type": "code",
   "execution_count": 113,
   "id": "4dd67c24",
   "metadata": {},
   "outputs": [
    {
     "data": {
      "image/png": "[encoded data removed]",
      "text/plain": [
       "<Figure size 640x480 with 1 Axes>"
      ]
     },
     "metadata": {},
     "output_type": "display_data"
    }
   ],
   "source": [
    "import seaborn as sns\n",
    "import matplotlib.pyplot as plt\n",
    "\n",
    "# Plot a bar plot of the 'category' feature\n",
    "sns.countplot(x='category', data=df)\n",
    "plt.title('Bar Plot of Category')\n",
    "plt.xlabel('Category')\n",
    "plt.ylabel('Count')\n",
    "plt.xticks(rotation=45)\n",
    "plt.show()\n"
   ]
  },
  {
   "cell_type": "code",
   "execution_count": null,
   "id": "98803bbf",
   "metadata": {},
   "outputs": [],
   "source": []
  }
 ],
 "metadata": {
  "kernelspec": {
   "display_name": "Python 3 (ipykernel)",
   "language": "python",
   "name": "python3"
  },
  "language_info": {
   "codemirror_mode": {
    "name": "ipython",
    "version": 3
   },
   "file_extension": ".py",
   "mimetype": "text/x-python",
   "name": "python",
   "nbconvert_exporter": "python",
   "pygments_lexer": "ipython3",
   "version": "3.10.9"
  }
 },
 "nbformat": 4,
 "nbformat_minor": 5
}
